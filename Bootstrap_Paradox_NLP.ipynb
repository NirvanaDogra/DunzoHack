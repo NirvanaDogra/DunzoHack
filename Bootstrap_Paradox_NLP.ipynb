{
 "cells": [
  {
   "cell_type": "code",
   "execution_count": 1,
   "metadata": {},
   "outputs": [
    {
     "name": "stderr",
     "output_type": "stream",
     "text": [
      "/home/cloud/anaconda/lib/python3.6/site-packages/tensorflow/python/framework/dtypes.py:523: FutureWarning: Passing (type, 1) or '1type' as a synonym of type is deprecated; in a future version of numpy, it will be understood as (type, (1,)) / '(1,)type'.\n",
      "  _np_qint8 = np.dtype([(\"qint8\", np.int8, 1)])\n",
      "/home/cloud/anaconda/lib/python3.6/site-packages/tensorflow/python/framework/dtypes.py:524: FutureWarning: Passing (type, 1) or '1type' as a synonym of type is deprecated; in a future version of numpy, it will be understood as (type, (1,)) / '(1,)type'.\n",
      "  _np_quint8 = np.dtype([(\"quint8\", np.uint8, 1)])\n",
      "/home/cloud/anaconda/lib/python3.6/site-packages/tensorflow/python/framework/dtypes.py:525: FutureWarning: Passing (type, 1) or '1type' as a synonym of type is deprecated; in a future version of numpy, it will be understood as (type, (1,)) / '(1,)type'.\n",
      "  _np_qint16 = np.dtype([(\"qint16\", np.int16, 1)])\n",
      "/home/cloud/anaconda/lib/python3.6/site-packages/tensorflow/python/framework/dtypes.py:526: FutureWarning: Passing (type, 1) or '1type' as a synonym of type is deprecated; in a future version of numpy, it will be understood as (type, (1,)) / '(1,)type'.\n",
      "  _np_quint16 = np.dtype([(\"quint16\", np.uint16, 1)])\n",
      "/home/cloud/anaconda/lib/python3.6/site-packages/tensorflow/python/framework/dtypes.py:527: FutureWarning: Passing (type, 1) or '1type' as a synonym of type is deprecated; in a future version of numpy, it will be understood as (type, (1,)) / '(1,)type'.\n",
      "  _np_qint32 = np.dtype([(\"qint32\", np.int32, 1)])\n",
      "/home/cloud/anaconda/lib/python3.6/site-packages/tensorflow/python/framework/dtypes.py:532: FutureWarning: Passing (type, 1) or '1type' as a synonym of type is deprecated; in a future version of numpy, it will be understood as (type, (1,)) / '(1,)type'.\n",
      "  np_resource = np.dtype([(\"resource\", np.ubyte, 1)])\n",
      "Using TensorFlow backend.\n"
     ]
    }
   ],
   "source": [
    "import nltk\n",
    "import torch\n",
    "import tensorflow as tf\n",
    "import keras\n",
    "import warnings\n",
    "warnings.simplefilter('ignore')"
   ]
  },
  {
   "cell_type": "code",
   "execution_count": 1,
   "metadata": {},
   "outputs": [
    {
     "name": "stdout",
     "output_type": "stream",
     "text": [
      "Requirement already up-to-date: textblob in /home/cloud/anaconda/lib/python3.6/site-packages (0.15.3)\n",
      "Requirement already satisfied, skipping upgrade: nltk>=3.1 in /home/cloud/anaconda/lib/python3.6/site-packages (from textblob) (3.4.4)\n",
      "Requirement already satisfied, skipping upgrade: six in /home/cloud/anaconda/lib/python3.6/site-packages (from nltk>=3.1->textblob) (1.12.0)\n",
      "Requirement already up-to-date: rake-nltk in /home/cloud/anaconda/lib/python3.6/site-packages (1.0.4)\n",
      "Requirement already satisfied, skipping upgrade: nltk in /home/cloud/anaconda/lib/python3.6/site-packages (from rake-nltk) (3.4.4)\n",
      "Requirement already satisfied, skipping upgrade: six in /home/cloud/anaconda/lib/python3.6/site-packages (from nltk->rake-nltk) (1.12.0)\n",
      "[nltk_data] Downloading package brown to /home/cloud/nltk_data...\n",
      "[nltk_data]   Package brown is already up-to-date!\n",
      "[nltk_data] Downloading package punkt to /home/cloud/nltk_data...\n",
      "[nltk_data]   Package punkt is already up-to-date!\n",
      "[nltk_data] Downloading package wordnet to /home/cloud/nltk_data...\n",
      "[nltk_data]   Package wordnet is already up-to-date!\n",
      "[nltk_data] Downloading package averaged_perceptron_tagger to\n",
      "[nltk_data]     /home/cloud/nltk_data...\n",
      "[nltk_data]   Package averaged_perceptron_tagger is already up-to-\n",
      "[nltk_data]       date!\n",
      "[nltk_data] Downloading package conll2000 to /home/cloud/nltk_data...\n",
      "[nltk_data]   Package conll2000 is already up-to-date!\n",
      "[nltk_data] Downloading package movie_reviews to\n",
      "[nltk_data]     /home/cloud/nltk_data...\n",
      "[nltk_data]   Package movie_reviews is already up-to-date!\n",
      "Finished.\n"
     ]
    }
   ],
   "source": [
    "!pip3 install -U textblob\n",
    "!pip3 install -U rake-nltk\n",
    "!python3 -m textblob.download_corpora"
   ]
  },
  {
   "cell_type": "code",
   "execution_count": 2,
   "metadata": {
    "collapsed": true
   },
   "outputs": [],
   "source": [
    "text = []"
   ]
  },
  {
   "cell_type": "code",
   "execution_count": 3,
   "metadata": {
    "collapsed": true
   },
   "outputs": [],
   "source": [
    "import spacy\n",
    "from spacy import displacy\n",
    "from collections import Counter\n",
    "import en_core_web_sm\n",
    "nlp = en_core_web_sm.load()"
   ]
  },
  {
   "cell_type": "code",
   "execution_count": 14,
   "metadata": {
    "collapsed": true
   },
   "outputs": [],
   "source": [
    "def preprocess(txt): #convert to lower case, remove stopwords, get important entities\n",
    "    \n",
    "    from nltk.corpus import stopwords\n",
    "    from nltk.tokenize import word_tokenize as tokenize\n",
    "    \n",
    "    stop_words=set(stopwords.words('english'))\n",
    "    t_list, key_phrases, entities = [],[],[]\n",
    "    txt_tokens=tokenize(txt)\n",
    "    \n",
    "    t_list = [word.lower() for word in txt_tokens if not word in stop_words]\n",
    "#     print(\"After removing stopwords :\\n\",t_list) #return this\n",
    "    \n",
    "    pre_processed_string = \"\"\n",
    "    for word in t_list :\n",
    "        pre_processed_string=pre_processed_string+word+\" \"\n",
    "    pre_processed_string.strip()\n",
    "#     print(\"Preprocessed String : \\n\",pre_processed_string)\n",
    "    \n",
    "    from rake_nltk import Rake\n",
    "    \n",
    "    r=Rake()\n",
    "    r.extract_keywords_from_text(txt)\n",
    "    key_phrases = r.get_ranked_phrases()\n",
    "    for item in key_phrases:\n",
    "#         print(item)\n",
    "        if item.split(\" \")[0]==str(item):\n",
    "            key_phrases.remove(item)\n",
    "    if len(key_phrases) > 20:\n",
    "        for i in range(len((key_phrases))//3):\n",
    "            key_phrases.pop(0)\n",
    "#     print(\"Key Phrases : \\n\",key_phrases) #return this\n",
    "    \n",
    "    import spacy\n",
    "    from spacy import displacy\n",
    "    from collections import Counter\n",
    "    import en_core_web_sm\n",
    "    nlp = en_core_web_sm.load()\n",
    "    \n",
    "    doc = nlp(txt)\n",
    "    entities = [(X.text, X.label_) for X in doc.ents]\n",
    "#     if len(entities) != 0:\n",
    "#         print(\"Entities : \\n\",entities) #return this\n",
    "#     else:\n",
    "#         print(\"No Entities\")\n",
    "    \n",
    "    return key_phrases"
   ]
  },
  {
   "cell_type": "code",
   "execution_count": 5,
   "metadata": {
    "collapsed": true
   },
   "outputs": [],
   "source": [
    "def information_from_article(url):\n",
    "    \n",
    "    import spacy\n",
    "    import requests\n",
    "    import re\n",
    "    from bs4 import BeautifulSoup\n",
    "    \n",
    "    res = requests.get(url)\n",
    "    html = res.text\n",
    "    soup = BeautifulSoup(html, 'html5lib')\n",
    "    for script in soup([\"script\", \"style\", 'aside']):\n",
    "        script.extract()\n",
    "    return \" \".join(re.split(r'[\\n\\t]+', soup.get_text()))\n"
   ]
  },
  {
   "cell_type": "code",
   "execution_count": 6,
   "metadata": {
    "collapsed": true
   },
   "outputs": [],
   "source": [
    "def get_information(url):\n",
    "    \n",
    "    import warnings\n",
    "    warnings.simplefilter('ignore')\n",
    "    extractor=information_from_article(url)\n",
    "    article = nlp(extractor)\n",
    "    print(\"Number of entities in the page : \",len(article.ents)) #return this\n",
    "    labels = [x.label_ for x in article.ents]\n",
    "    \n",
    "    i = len(labels)//3 #30% of the top label count\n",
    "    items = [x.text for x in article.ents]\n",
    "    common_items = [] #Counter(items).most_common(i)\n",
    "    too_common=[x for x in range(5)]\n",
    "    for item in Counter(items).most_common(i):\n",
    "        try:\n",
    "            if int(str(item).split(',')[1].split(')')[0]) in too_common:\n",
    "                continue\n",
    "            else:\n",
    "                common_items.append(str(item).split(',')[0])\n",
    "        except ValueError as e:\n",
    "            pass\n",
    "        \n",
    "    sentences = [x for x in article.sents]\n",
    "    print(len(sentences))\n",
    "    print(\"Most important terms in the document : \\n\",common_items) #return this\n",
    "    \n",
    "    for i in range(len(sentences)):\n",
    "        displacy.render(nlp(str(sentences[i])), jupyter=True, style='ent')\n"
   ]
  },
  {
   "cell_type": "code",
   "execution_count": 7,
   "metadata": {},
   "outputs": [
    {
     "name": "stdout",
     "output_type": "stream",
     "text": [
      "Number of entities in the page :  119\n",
      "178\n",
      "Most important terms in the document : \n",
      " [\"('GAN'\", \"('KL'\", \"('0'\", \"('zero'\", \"('Arjovsky'\"]\n"
     ]
    },
    {
     "data": {
      "text/html": [
       "<div class=\"entities\" style=\"line-height: 2.5; direction: ltr\">GAN —</div>"
      ],
      "text/plain": [
       "<IPython.core.display.HTML object>"
      ]
     },
     "metadata": {},
     "output_type": "display_data"
    },
    {
     "data": {
      "text/html": [
       "<div class=\"entities\" style=\"line-height: 2.5; direction: ltr\">Why it is so hard to train Generative Adversarial Networks!Data ScienceBecome a memberSign inGet startedPhoto by</div>"
      ],
      "text/plain": [
       "<IPython.core.display.HTML object>"
      ]
     },
     "metadata": {},
     "output_type": "display_data"
    },
    {
     "data": {
      "text/html": [
       "<div class=\"entities\" style=\"line-height: 2.5; direction: ltr\">\n",
       "<mark class=\"entity\" style=\"background: #aa9cfc; padding: 0.45em 0.6em; margin: 0 0.25em; line-height: 1; border-radius: 0.35em; box-decoration-break: clone; -webkit-box-decoration-break: clone\">\n",
       "    Victoria BilsboroughGAN\n",
       "    <span style=\"font-size: 0.8em; font-weight: bold; line-height: 1; border-radius: 0.35em; text-transform: uppercase; vertical-align: middle; margin-left: 0.5rem\">PERSON</span>\n",
       "</mark>\n",
       " —</div>"
      ],
      "text/plain": [
       "<IPython.core.display.HTML object>"
      ]
     },
     "metadata": {},
     "output_type": "display_data"
    },
    {
     "data": {
      "text/html": [
       "<div class=\"entities\" style=\"line-height: 2.5; direction: ltr\">Why it is so hard to train \n",
       "<mark class=\"entity\" style=\"background: #7aecec; padding: 0.45em 0.6em; margin: 0 0.25em; line-height: 1; border-radius: 0.35em; box-decoration-break: clone; -webkit-box-decoration-break: clone\">\n",
       "    Generative Adversarial Networks!Jonathan\n",
       "    <span style=\"font-size: 0.8em; font-weight: bold; line-height: 1; border-radius: 0.35em; text-transform: uppercase; vertical-align: middle; margin-left: 0.5rem\">ORG</span>\n",
       "</mark>\n",
       " HuiFollowJun \n",
       "<mark class=\"entity\" style=\"background: #bfe1d9; padding: 0.45em 0.6em; margin: 0 0.25em; line-height: 1; border-radius: 0.35em; box-decoration-break: clone; -webkit-box-decoration-break: clone\">\n",
       "    21, 2018\n",
       "    <span style=\"font-size: 0.8em; font-weight: bold; line-height: 1; border-radius: 0.35em; text-transform: uppercase; vertical-align: middle; margin-left: 0.5rem\">DATE</span>\n",
       "</mark>\n",
       "</div>"
      ],
      "text/plain": [
       "<IPython.core.display.HTML object>"
      ]
     },
     "metadata": {},
     "output_type": "display_data"
    },
    {
     "data": {
      "text/html": [
       "<div class=\"entities\" style=\"line-height: 2.5; direction: ltr\">· \n",
       "<mark class=\"entity\" style=\"background: #e4e7d2; padding: 0.45em 0.6em; margin: 0 0.25em; line-height: 1; border-radius: 0.35em; box-decoration-break: clone; -webkit-box-decoration-break: clone\">\n",
       "    12\n",
       "    <span style=\"font-size: 0.8em; font-weight: bold; line-height: 1; border-radius: 0.35em; text-transform: uppercase; vertical-align: middle; margin-left: 0.5rem\">CARDINAL</span>\n",
       "</mark>\n",
       " min readIt is easier to recognize a \n",
       "<mark class=\"entity\" style=\"background: #aa9cfc; padding: 0.45em 0.6em; margin: 0 0.25em; line-height: 1; border-radius: 0.35em; box-decoration-break: clone; -webkit-box-decoration-break: clone\">\n",
       "    Monet\n",
       "    <span style=\"font-size: 0.8em; font-weight: bold; line-height: 1; border-radius: 0.35em; text-transform: uppercase; vertical-align: middle; margin-left: 0.5rem\">PERSON</span>\n",
       "</mark>\n",
       "’s painting than drawing one.</div>"
      ],
      "text/plain": [
       "<IPython.core.display.HTML object>"
      ]
     },
     "metadata": {},
     "output_type": "display_data"
    },
    {
     "data": {
      "text/html": [
       "<div class=\"entities\" style=\"line-height: 2.5; direction: ltr\">Generative models (creating data) are considered much harder comparing with the discriminative models (processing data).</div>"
      ],
      "text/plain": [
       "<IPython.core.display.HTML object>"
      ]
     },
     "metadata": {},
     "output_type": "display_data"
    },
    {
     "data": {
      "text/html": [
       "<div class=\"entities\" style=\"line-height: 2.5; direction: ltr\">Training \n",
       "<mark class=\"entity\" style=\"background: #7aecec; padding: 0.45em 0.6em; margin: 0 0.25em; line-height: 1; border-radius: 0.35em; box-decoration-break: clone; -webkit-box-decoration-break: clone\">\n",
       "    GAN\n",
       "    <span style=\"font-size: 0.8em; font-weight: bold; line-height: 1; border-radius: 0.35em; text-transform: uppercase; vertical-align: middle; margin-left: 0.5rem\">ORG</span>\n",
       "</mark>\n",
       " is also hard.</div>"
      ],
      "text/plain": [
       "<IPython.core.display.HTML object>"
      ]
     },
     "metadata": {},
     "output_type": "display_data"
    },
    {
     "data": {
      "text/html": [
       "<div class=\"entities\" style=\"line-height: 2.5; direction: ltr\">This article is part of the GAN series and we will investigate why the training is so elusive.</div>"
      ],
      "text/plain": [
       "<IPython.core.display.HTML object>"
      ]
     },
     "metadata": {},
     "output_type": "display_data"
    },
    {
     "data": {
      "text/html": [
       "<div class=\"entities\" style=\"line-height: 2.5; direction: ltr\">Through the study, we understand some fundamental problems that drive the directions of many researchers.</div>"
      ],
      "text/plain": [
       "<IPython.core.display.HTML object>"
      ]
     },
     "metadata": {},
     "output_type": "display_data"
    },
    {
     "data": {
      "text/html": [
       "<div class=\"entities\" style=\"line-height: 2.5; direction: ltr\">We will look into some disagreements so we know where the research may head to.</div>"
      ],
      "text/plain": [
       "<IPython.core.display.HTML object>"
      ]
     },
     "metadata": {},
     "output_type": "display_data"
    },
    {
     "data": {
      "text/html": [
       "<div class=\"entities\" style=\"line-height: 2.5; direction: ltr\">Before looking into the problems, let\n",
       "<mark class=\"entity\" style=\"background: #7aecec; padding: 0.45em 0.6em; margin: 0 0.25em; line-height: 1; border-radius: 0.35em; box-decoration-break: clone; -webkit-box-decoration-break: clone\">\n",
       "    ’s\n",
       "    <span style=\"font-size: 0.8em; font-weight: bold; line-height: 1; border-radius: 0.35em; text-transform: uppercase; vertical-align: middle; margin-left: 0.5rem\">ORG</span>\n",
       "</mark>\n",
       " have a quick recap on some of the \n",
       "<mark class=\"entity\" style=\"background: #7aecec; padding: 0.45em 0.6em; margin: 0 0.25em; line-height: 1; border-radius: 0.35em; box-decoration-break: clone; -webkit-box-decoration-break: clone\">\n",
       "    GAN\n",
       "    <span style=\"font-size: 0.8em; font-weight: bold; line-height: 1; border-radius: 0.35em; text-transform: uppercase; vertical-align: middle; margin-left: 0.5rem\">ORG</span>\n",
       "</mark>\n",
       " equations.</div>"
      ],
      "text/plain": [
       "<IPython.core.display.HTML object>"
      ]
     },
     "metadata": {},
     "output_type": "display_data"
    },
    {
     "data": {
      "text/html": [
       "<div class=\"entities\" style=\"line-height: 2.5; direction: ltr\">\n",
       "<mark class=\"entity\" style=\"background: #7aecec; padding: 0.45em 0.6em; margin: 0 0.25em; line-height: 1; border-radius: 0.35em; box-decoration-break: clone; -webkit-box-decoration-break: clone\">\n",
       "    GANGAN\n",
       "    <span style=\"font-size: 0.8em; font-weight: bold; line-height: 1; border-radius: 0.35em; text-transform: uppercase; vertical-align: middle; margin-left: 0.5rem\">ORG</span>\n",
       "</mark>\n",
       " samples noise z using normal or uniform distribution and utilizes a deep network generator G to create an image x (x=G(z)).In GAN, we add a discriminator to distinguish whether the discriminator input is real or generated.</div>"
      ],
      "text/plain": [
       "<IPython.core.display.HTML object>"
      ]
     },
     "metadata": {},
     "output_type": "display_data"
    },
    {
     "data": {
      "text/html": [
       "<div class=\"entities\" style=\"line-height: 2.5; direction: ltr\">It outputs a value D(x) to estimate the chance that the input is real.</div>"
      ],
      "text/plain": [
       "<IPython.core.display.HTML object>"
      ]
     },
     "metadata": {},
     "output_type": "display_data"
    },
    {
     "data": {
      "text/html": [
       "<div class=\"entities\" style=\"line-height: 2.5; direction: ltr\">Objective function and gradientsGAN is defined as a minimax game with the following objective function.</div>"
      ],
      "text/plain": [
       "<IPython.core.display.HTML object>"
      ]
     },
     "metadata": {},
     "output_type": "display_data"
    },
    {
     "data": {
      "text/html": [
       "<div class=\"entities\" style=\"line-height: 2.5; direction: ltr\">The diagram below summarizes how we train the discriminator and the generator using the corresponding gradient.</div>"
      ],
      "text/plain": [
       "<IPython.core.display.HTML object>"
      ]
     },
     "metadata": {},
     "output_type": "display_data"
    },
    {
     "data": {
      "text/html": [
       "<div class=\"entities\" style=\"line-height: 2.5; direction: ltr\">\n",
       "<mark class=\"entity\" style=\"background: #7aecec; padding: 0.45em 0.6em; margin: 0 0.25em; line-height: 1; border-radius: 0.35em; box-decoration-break: clone; -webkit-box-decoration-break: clone\">\n",
       "    GAN ProblemsMany GAN\n",
       "    <span style=\"font-size: 0.8em; font-weight: bold; line-height: 1; border-radius: 0.35em; text-transform: uppercase; vertical-align: middle; margin-left: 0.5rem\">ORG</span>\n",
       "</mark>\n",
       " models suffer the following major problems:</div>"
      ],
      "text/plain": [
       "<IPython.core.display.HTML object>"
      ]
     },
     "metadata": {},
     "output_type": "display_data"
    },
    {
     "data": {
      "text/html": [
       "<div class=\"entities\" style=\"line-height: 2.5; direction: ltr\">Non-convergence: the model parameters oscillate, destabilize and never converge,Mode collapse:</div>"
      ],
      "text/plain": [
       "<IPython.core.display.HTML object>"
      ]
     },
     "metadata": {},
     "output_type": "display_data"
    },
    {
     "data": {
      "text/html": [
       "<div class=\"entities\" style=\"line-height: 2.5; direction: ltr\">the generator collapses which produces limited varieties of samples,</div>"
      ],
      "text/plain": [
       "<IPython.core.display.HTML object>"
      ]
     },
     "metadata": {},
     "output_type": "display_data"
    },
    {
     "data": {
      "text/html": [
       "<div class=\"entities\" style=\"line-height: 2.5; direction: ltr\">Diminished gradient</div>"
      ],
      "text/plain": [
       "<IPython.core.display.HTML object>"
      ]
     },
     "metadata": {},
     "output_type": "display_data"
    },
    {
     "data": {
      "text/html": [
       "<div class=\"entities\" style=\"line-height: 2.5; direction: ltr\">: the discriminator gets too successful that the generator gradient vanishes and learns nothing,Unbalance between the generator and discriminator causing overfitting, andHighly sensitive to the hyperparameter selections.</div>"
      ],
      "text/plain": [
       "<IPython.core.display.HTML object>"
      ]
     },
     "metadata": {},
     "output_type": "display_data"
    },
    {
     "data": {
      "text/html": [
       "<div class=\"entities\" style=\"line-height: 2.5; direction: ltr\">ModeReal-life data distributions are multimodal.</div>"
      ],
      "text/plain": [
       "<IPython.core.display.HTML object>"
      ]
     },
     "metadata": {},
     "output_type": "display_data"
    },
    {
     "data": {
      "text/html": [
       "<div class=\"entities\" style=\"line-height: 2.5; direction: ltr\">For example, in \n",
       "<mark class=\"entity\" style=\"background: #7aecec; padding: 0.45em 0.6em; margin: 0 0.25em; line-height: 1; border-radius: 0.35em; box-decoration-break: clone; -webkit-box-decoration-break: clone\">\n",
       "    MNIST\n",
       "    <span style=\"font-size: 0.8em; font-weight: bold; line-height: 1; border-radius: 0.35em; text-transform: uppercase; vertical-align: middle; margin-left: 0.5rem\">ORG</span>\n",
       "</mark>\n",
       ", there are \n",
       "<mark class=\"entity\" style=\"background: #e4e7d2; padding: 0.45em 0.6em; margin: 0 0.25em; line-height: 1; border-radius: 0.35em; box-decoration-break: clone; -webkit-box-decoration-break: clone\">\n",
       "    10\n",
       "    <span style=\"font-size: 0.8em; font-weight: bold; line-height: 1; border-radius: 0.35em; text-transform: uppercase; vertical-align: middle; margin-left: 0.5rem\">CARDINAL</span>\n",
       "</mark>\n",
       " major modes from digit</div>"
      ],
      "text/plain": [
       "<IPython.core.display.HTML object>"
      ]
     },
     "metadata": {},
     "output_type": "display_data"
    },
    {
     "data": {
      "text/html": [
       "<div class=\"entities\" style=\"line-height: 2.5; direction: ltr\">‘\n",
       "<mark class=\"entity\" style=\"background: #e4e7d2; padding: 0.45em 0.6em; margin: 0 0.25em; line-height: 1; border-radius: 0.35em; box-decoration-break: clone; -webkit-box-decoration-break: clone\">\n",
       "    0\n",
       "    <span style=\"font-size: 0.8em; font-weight: bold; line-height: 1; border-radius: 0.35em; text-transform: uppercase; vertical-align: middle; margin-left: 0.5rem\">CARDINAL</span>\n",
       "</mark>\n",
       "’ to digit ‘\n",
       "<mark class=\"entity\" style=\"background: #e4e7d2; padding: 0.45em 0.6em; margin: 0 0.25em; line-height: 1; border-radius: 0.35em; box-decoration-break: clone; -webkit-box-decoration-break: clone\">\n",
       "    9\n",
       "    <span style=\"font-size: 0.8em; font-weight: bold; line-height: 1; border-radius: 0.35em; text-transform: uppercase; vertical-align: middle; margin-left: 0.5rem\">CARDINAL</span>\n",
       "</mark>\n",
       "’.</div>"
      ],
      "text/plain": [
       "<IPython.core.display.HTML object>"
      ]
     },
     "metadata": {},
     "output_type": "display_data"
    },
    {
     "data": {
      "text/html": [
       "<div class=\"entities\" style=\"line-height: 2.5; direction: ltr\">The samples below are generated by \n",
       "<mark class=\"entity\" style=\"background: #e4e7d2; padding: 0.45em 0.6em; margin: 0 0.25em; line-height: 1; border-radius: 0.35em; box-decoration-break: clone; -webkit-box-decoration-break: clone\">\n",
       "    two\n",
       "    <span style=\"font-size: 0.8em; font-weight: bold; line-height: 1; border-radius: 0.35em; text-transform: uppercase; vertical-align: middle; margin-left: 0.5rem\">CARDINAL</span>\n",
       "</mark>\n",
       " different GANs.</div>"
      ],
      "text/plain": [
       "<IPython.core.display.HTML object>"
      ]
     },
     "metadata": {},
     "output_type": "display_data"
    },
    {
     "data": {
      "text/html": [
       "<div class=\"entities\" style=\"line-height: 2.5; direction: ltr\">The top row produces all \n",
       "<mark class=\"entity\" style=\"background: #e4e7d2; padding: 0.45em 0.6em; margin: 0 0.25em; line-height: 1; border-radius: 0.35em; box-decoration-break: clone; -webkit-box-decoration-break: clone\">\n",
       "    10\n",
       "    <span style=\"font-size: 0.8em; font-weight: bold; line-height: 1; border-radius: 0.35em; text-transform: uppercase; vertical-align: middle; margin-left: 0.5rem\">CARDINAL</span>\n",
       "</mark>\n",
       " modes while the \n",
       "<mark class=\"entity\" style=\"background: #e4e7d2; padding: 0.45em 0.6em; margin: 0 0.25em; line-height: 1; border-radius: 0.35em; box-decoration-break: clone; -webkit-box-decoration-break: clone\">\n",
       "    second\n",
       "    <span style=\"font-size: 0.8em; font-weight: bold; line-height: 1; border-radius: 0.35em; text-transform: uppercase; vertical-align: middle; margin-left: 0.5rem\">ORDINAL</span>\n",
       "</mark>\n",
       " row creates a single mode only (the digit “\n",
       "<mark class=\"entity\" style=\"background: #e4e7d2; padding: 0.45em 0.6em; margin: 0 0.25em; line-height: 1; border-radius: 0.35em; box-decoration-break: clone; -webkit-box-decoration-break: clone\">\n",
       "    6\n",
       "    <span style=\"font-size: 0.8em; font-weight: bold; line-height: 1; border-radius: 0.35em; text-transform: uppercase; vertical-align: middle; margin-left: 0.5rem\">CARDINAL</span>\n",
       "</mark>\n",
       "”).</div>"
      ],
      "text/plain": [
       "<IPython.core.display.HTML object>"
      ]
     },
     "metadata": {},
     "output_type": "display_data"
    },
    {
     "data": {
      "text/html": [
       "<div class=\"entities\" style=\"line-height: 2.5; direction: ltr\">This problem is called mode collapse when only a few modes of data are generated.</div>"
      ],
      "text/plain": [
       "<IPython.core.display.HTML object>"
      ]
     },
     "metadata": {},
     "output_type": "display_data"
    },
    {
     "data": {
      "text/html": [
       "<div class=\"entities\" style=\"line-height: 2.5; direction: ltr\">SourceNash equilibriumGAN is based on the \n",
       "<mark class=\"entity\" style=\"background: #e4e7d2; padding: 0.45em 0.6em; margin: 0 0.25em; line-height: 1; border-radius: 0.35em; box-decoration-break: clone; -webkit-box-decoration-break: clone\">\n",
       "    zero\n",
       "    <span style=\"font-size: 0.8em; font-weight: bold; line-height: 1; border-radius: 0.35em; text-transform: uppercase; vertical-align: middle; margin-left: 0.5rem\">CARDINAL</span>\n",
       "</mark>\n",
       "-sum non-cooperative game.</div>"
      ],
      "text/plain": [
       "<IPython.core.display.HTML object>"
      ]
     },
     "metadata": {},
     "output_type": "display_data"
    },
    {
     "data": {
      "text/html": [
       "<div class=\"entities\" style=\"line-height: 2.5; direction: ltr\">In short, if one wins the other loses.</div>"
      ],
      "text/plain": [
       "<IPython.core.display.HTML object>"
      ]
     },
     "metadata": {},
     "output_type": "display_data"
    },
    {
     "data": {
      "text/html": [
       "<div class=\"entities\" style=\"line-height: 2.5; direction: ltr\">A \n",
       "<mark class=\"entity\" style=\"background: #e4e7d2; padding: 0.45em 0.6em; margin: 0 0.25em; line-height: 1; border-radius: 0.35em; box-decoration-break: clone; -webkit-box-decoration-break: clone\">\n",
       "    zero\n",
       "    <span style=\"font-size: 0.8em; font-weight: bold; line-height: 1; border-radius: 0.35em; text-transform: uppercase; vertical-align: middle; margin-left: 0.5rem\">CARDINAL</span>\n",
       "</mark>\n",
       "-sum game is also called minimax.</div>"
      ],
      "text/plain": [
       "<IPython.core.display.HTML object>"
      ]
     },
     "metadata": {},
     "output_type": "display_data"
    },
    {
     "data": {
      "text/html": [
       "<div class=\"entities\" style=\"line-height: 2.5; direction: ltr\">Your opponent wants to maximize its actions and your actions are to minimize them.</div>"
      ],
      "text/plain": [
       "<IPython.core.display.HTML object>"
      ]
     },
     "metadata": {},
     "output_type": "display_data"
    },
    {
     "data": {
      "text/html": [
       "<div class=\"entities\" style=\"line-height: 2.5; direction: ltr\">In game theory, the \n",
       "<mark class=\"entity\" style=\"background: #7aecec; padding: 0.45em 0.6em; margin: 0 0.25em; line-height: 1; border-radius: 0.35em; box-decoration-break: clone; -webkit-box-decoration-break: clone\">\n",
       "    GAN\n",
       "    <span style=\"font-size: 0.8em; font-weight: bold; line-height: 1; border-radius: 0.35em; text-transform: uppercase; vertical-align: middle; margin-left: 0.5rem\">ORG</span>\n",
       "</mark>\n",
       " model converges when the discriminator and the generator reach a Nash equilibrium.</div>"
      ],
      "text/plain": [
       "<IPython.core.display.HTML object>"
      ]
     },
     "metadata": {},
     "output_type": "display_data"
    },
    {
     "data": {
      "text/html": [
       "<div class=\"entities\" style=\"line-height: 2.5; direction: ltr\">This is the optimal point for the minimax equation below.</div>"
      ],
      "text/plain": [
       "<IPython.core.display.HTML object>"
      ]
     },
     "metadata": {},
     "output_type": "display_data"
    },
    {
     "data": {
      "text/html": [
       "<div class=\"entities\" style=\"line-height: 2.5; direction: ltr\">Since both sides want to undermine the others, a Nash equilibrium happens when \n",
       "<mark class=\"entity\" style=\"background: #e4e7d2; padding: 0.45em 0.6em; margin: 0 0.25em; line-height: 1; border-radius: 0.35em; box-decoration-break: clone; -webkit-box-decoration-break: clone\">\n",
       "    one\n",
       "    <span style=\"font-size: 0.8em; font-weight: bold; line-height: 1; border-radius: 0.35em; text-transform: uppercase; vertical-align: middle; margin-left: 0.5rem\">CARDINAL</span>\n",
       "</mark>\n",
       " player will not change its action regardless of what the opponent may do.</div>"
      ],
      "text/plain": [
       "<IPython.core.display.HTML object>"
      ]
     },
     "metadata": {},
     "output_type": "display_data"
    },
    {
     "data": {
      "text/html": [
       "<div class=\"entities\" style=\"line-height: 2.5; direction: ltr\">Consider \n",
       "<mark class=\"entity\" style=\"background: #e4e7d2; padding: 0.45em 0.6em; margin: 0 0.25em; line-height: 1; border-radius: 0.35em; box-decoration-break: clone; -webkit-box-decoration-break: clone\">\n",
       "    two\n",
       "    <span style=\"font-size: 0.8em; font-weight: bold; line-height: 1; border-radius: 0.35em; text-transform: uppercase; vertical-align: middle; margin-left: 0.5rem\">CARDINAL</span>\n",
       "</mark>\n",
       " player A and B which control the value x and y respectively.</div>"
      ],
      "text/plain": [
       "<IPython.core.display.HTML object>"
      ]
     },
     "metadata": {},
     "output_type": "display_data"
    },
    {
     "data": {
      "text/html": [
       "<div class=\"entities\" style=\"line-height: 2.5; direction: ltr\">Player A wants to maximize the value xy while B wants to minimize it.</div>"
      ],
      "text/plain": [
       "<IPython.core.display.HTML object>"
      ]
     },
     "metadata": {},
     "output_type": "display_data"
    },
    {
     "data": {
      "text/html": [
       "<div class=\"entities\" style=\"line-height: 2.5; direction: ltr\">The Nash equilibrium is x=y=0.</div>"
      ],
      "text/plain": [
       "<IPython.core.display.HTML object>"
      ]
     },
     "metadata": {},
     "output_type": "display_data"
    },
    {
     "data": {
      "text/html": [
       "<div class=\"entities\" style=\"line-height: 2.5; direction: ltr\">This is the only state where the action of your opponent does not matter.</div>"
      ],
      "text/plain": [
       "<IPython.core.display.HTML object>"
      ]
     },
     "metadata": {},
     "output_type": "display_data"
    },
    {
     "data": {
      "text/html": [
       "<div class=\"entities\" style=\"line-height: 2.5; direction: ltr\">It is the only state that any opponents’ actions will not change the game outcome.</div>"
      ],
      "text/plain": [
       "<IPython.core.display.HTML object>"
      ]
     },
     "metadata": {},
     "output_type": "display_data"
    },
    {
     "data": {
      "text/html": [
       "<div class=\"entities\" style=\"line-height: 2.5; direction: ltr\">Let’s see whether we can find the Nash equilibrium easily using the gradient descent.</div>"
      ],
      "text/plain": [
       "<IPython.core.display.HTML object>"
      ]
     },
     "metadata": {},
     "output_type": "display_data"
    },
    {
     "data": {
      "text/html": [
       "<div class=\"entities\" style=\"line-height: 2.5; direction: ltr\">We update the parameter x and y based on the gradient of the value function</div>"
      ],
      "text/plain": [
       "<IPython.core.display.HTML object>"
      ]
     },
     "metadata": {},
     "output_type": "display_data"
    },
    {
     "data": {
      "text/html": [
       "<div class=\"entities\" style=\"line-height: 2.5; direction: ltr\">V.where α is the learning rate.</div>"
      ],
      "text/plain": [
       "<IPython.core.display.HTML object>"
      ]
     },
     "metadata": {},
     "output_type": "display_data"
    },
    {
     "data": {
      "text/html": [
       "<div class=\"entities\" style=\"line-height: 2.5; direction: ltr\">When we plot x, y and xy against the training iterations, we realize our solution does not converge.</div>"
      ],
      "text/plain": [
       "<IPython.core.display.HTML object>"
      ]
     },
     "metadata": {},
     "output_type": "display_data"
    },
    {
     "data": {
      "text/html": [
       "<div class=\"entities\" style=\"line-height: 2.5; direction: ltr\">If we increase the learning rate or train the model longer, we can see the parameters x, y is unstable with big swings.</div>"
      ],
      "text/plain": [
       "<IPython.core.display.HTML object>"
      ]
     },
     "metadata": {},
     "output_type": "display_data"
    },
    {
     "data": {
      "text/html": [
       "<div class=\"entities\" style=\"line-height: 2.5; direction: ltr\">Our example is an excellent showcase that some cost functions will not converge with gradient descent, in particular for a non-convex game.</div>"
      ],
      "text/plain": [
       "<IPython.core.display.HTML object>"
      ]
     },
     "metadata": {},
     "output_type": "display_data"
    },
    {
     "data": {
      "text/html": [
       "<div class=\"entities\" style=\"line-height: 2.5; direction: ltr\">We can also view this issue in an intuitive way: your opponent always countermeasures your actions which make the models harder to converge.</div>"
      ],
      "text/plain": [
       "<IPython.core.display.HTML object>"
      ]
     },
     "metadata": {},
     "output_type": "display_data"
    },
    {
     "data": {
      "text/html": [
       "<div class=\"entities\" style=\"line-height: 2.5; direction: ltr\">Cost functions may not converge using gradient descent in a minimax game.</div>"
      ],
      "text/plain": [
       "<IPython.core.display.HTML object>"
      ]
     },
     "metadata": {},
     "output_type": "display_data"
    },
    {
     "data": {
      "text/html": [
       "<div class=\"entities\" style=\"line-height: 2.5; direction: ltr\">Generative model with \n",
       "<mark class=\"entity\" style=\"background: #c887fb; padding: 0.45em 0.6em; margin: 0 0.25em; line-height: 1; border-radius: 0.35em; box-decoration-break: clone; -webkit-box-decoration-break: clone\">\n",
       "    KL-DivergenceTo\n",
       "    <span style=\"font-size: 0.8em; font-weight: bold; line-height: 1; border-radius: 0.35em; text-transform: uppercase; vertical-align: middle; margin-left: 0.5rem\">NORP</span>\n",
       "</mark>\n",
       " understand the convergence issue in \n",
       "<mark class=\"entity\" style=\"background: #7aecec; padding: 0.45em 0.6em; margin: 0 0.25em; line-height: 1; border-radius: 0.35em; box-decoration-break: clone; -webkit-box-decoration-break: clone\">\n",
       "    GAN\n",
       "    <span style=\"font-size: 0.8em; font-weight: bold; line-height: 1; border-radius: 0.35em; text-transform: uppercase; vertical-align: middle; margin-left: 0.5rem\">ORG</span>\n",
       "</mark>\n",
       ", we will study the \n",
       "<mark class=\"entity\" style=\"background: #7aecec; padding: 0.45em 0.6em; margin: 0 0.25em; line-height: 1; border-radius: 0.35em; box-decoration-break: clone; -webkit-box-decoration-break: clone\">\n",
       "    KL\n",
       "    <span style=\"font-size: 0.8em; font-weight: bold; line-height: 1; border-radius: 0.35em; text-transform: uppercase; vertical-align: middle; margin-left: 0.5rem\">ORG</span>\n",
       "</mark>\n",
       "-divergence and the JS-divergence \n",
       "<mark class=\"entity\" style=\"background: #e4e7d2; padding: 0.45em 0.6em; margin: 0 0.25em; line-height: 1; border-radius: 0.35em; box-decoration-break: clone; -webkit-box-decoration-break: clone\">\n",
       "    first\n",
       "    <span style=\"font-size: 0.8em; font-weight: bold; line-height: 1; border-radius: 0.35em; text-transform: uppercase; vertical-align: middle; margin-left: 0.5rem\">ORDINAL</span>\n",
       "</mark>\n",
       ".</div>"
      ],
      "text/plain": [
       "<IPython.core.display.HTML object>"
      ]
     },
     "metadata": {},
     "output_type": "display_data"
    },
    {
     "data": {
      "text/html": [
       "<div class=\"entities\" style=\"line-height: 2.5; direction: ltr\">Before \n",
       "<mark class=\"entity\" style=\"background: #7aecec; padding: 0.45em 0.6em; margin: 0 0.25em; line-height: 1; border-radius: 0.35em; box-decoration-break: clone; -webkit-box-decoration-break: clone\">\n",
       "    GAN\n",
       "    <span style=\"font-size: 0.8em; font-weight: bold; line-height: 1; border-radius: 0.35em; text-transform: uppercase; vertical-align: middle; margin-left: 0.5rem\">ORG</span>\n",
       "</mark>\n",
       ", many generative models create a model θ that maximizes \n",
       "<mark class=\"entity\" style=\"background: #7aecec; padding: 0.45em 0.6em; margin: 0 0.25em; line-height: 1; border-radius: 0.35em; box-decoration-break: clone; -webkit-box-decoration-break: clone\">\n",
       "    the Maximum Likelihood Estimation MLE\n",
       "    <span style=\"font-size: 0.8em; font-weight: bold; line-height: 1; border-radius: 0.35em; text-transform: uppercase; vertical-align: middle; margin-left: 0.5rem\">ORG</span>\n",
       "</mark>\n",
       ".</div>"
      ],
      "text/plain": [
       "<IPython.core.display.HTML object>"
      ]
     },
     "metadata": {},
     "output_type": "display_data"
    },
    {
     "data": {
      "text/html": [
       "<div class=\"entities\" style=\"line-height: 2.5; direction: ltr\">i.e. finding the best model parameters that fit the training data the most.</div>"
      ],
      "text/plain": [
       "<IPython.core.display.HTML object>"
      ]
     },
     "metadata": {},
     "output_type": "display_data"
    },
    {
     "data": {
      "text/html": [
       "<div class=\"entities\" style=\"line-height: 2.5; direction: ltr\">This is the same as minimizing the \n",
       "<mark class=\"entity\" style=\"background: #7aecec; padding: 0.45em 0.6em; margin: 0 0.25em; line-height: 1; border-radius: 0.35em; box-decoration-break: clone; -webkit-box-decoration-break: clone\">\n",
       "    KL\n",
       "    <span style=\"font-size: 0.8em; font-weight: bold; line-height: 1; border-radius: 0.35em; text-transform: uppercase; vertical-align: middle; margin-left: 0.5rem\">ORG</span>\n",
       "</mark>\n",
       "-divergence \n",
       "<mark class=\"entity\" style=\"background: #7aecec; padding: 0.45em 0.6em; margin: 0 0.25em; line-height: 1; border-radius: 0.35em; box-decoration-break: clone; -webkit-box-decoration-break: clone\">\n",
       "    KL(p\n",
       "    <span style=\"font-size: 0.8em; font-weight: bold; line-height: 1; border-radius: 0.35em; text-transform: uppercase; vertical-align: middle; margin-left: 0.5rem\">ORG</span>\n",
       "</mark>\n",
       ",q) (proof) which measures how the probability distribution q (estimated distribution) diverges from the expected probability distribution p (the real-life distribution).KL-divergence is not symmetrical.</div>"
      ],
      "text/plain": [
       "<IPython.core.display.HTML object>"
      ]
     },
     "metadata": {},
     "output_type": "display_data"
    },
    {
     "data": {
      "text/html": [
       "<div class=\"entities\" style=\"line-height: 2.5; direction: ltr\">\n",
       "<mark class=\"entity\" style=\"background: #feca74; padding: 0.45em 0.6em; margin: 0 0.25em; line-height: 1; border-radius: 0.35em; box-decoration-break: clone; -webkit-box-decoration-break: clone\">\n",
       "    KL(x\n",
       "    <span style=\"font-size: 0.8em; font-weight: bold; line-height: 1; border-radius: 0.35em; text-transform: uppercase; vertical-align: middle; margin-left: 0.5rem\">GPE</span>\n",
       "</mark>\n",
       ") drops to \n",
       "<mark class=\"entity\" style=\"background: #e4e7d2; padding: 0.45em 0.6em; margin: 0 0.25em; line-height: 1; border-radius: 0.35em; box-decoration-break: clone; -webkit-box-decoration-break: clone\">\n",
       "    0\n",
       "    <span style=\"font-size: 0.8em; font-weight: bold; line-height: 1; border-radius: 0.35em; text-transform: uppercase; vertical-align: middle; margin-left: 0.5rem\">CARDINAL</span>\n",
       "</mark>\n",
       " for area where p(x)</div>"
      ],
      "text/plain": [
       "<IPython.core.display.HTML object>"
      ]
     },
     "metadata": {},
     "output_type": "display_data"
    },
    {
     "data": {
      "text/html": [
       "<div class=\"entities\" style=\"line-height: 2.5; direction: ltr\">→ \n",
       "<mark class=\"entity\" style=\"background: #e4e7d2; padding: 0.45em 0.6em; margin: 0 0.25em; line-height: 1; border-radius: 0.35em; box-decoration-break: clone; -webkit-box-decoration-break: clone\">\n",
       "    0\n",
       "    <span style=\"font-size: 0.8em; font-weight: bold; line-height: 1; border-radius: 0.35em; text-transform: uppercase; vertical-align: middle; margin-left: 0.5rem\">CARDINAL</span>\n",
       "</mark>\n",
       ".</div>"
      ],
      "text/plain": [
       "<IPython.core.display.HTML object>"
      ]
     },
     "metadata": {},
     "output_type": "display_data"
    },
    {
     "data": {
      "text/html": [
       "<div class=\"entities\" style=\"line-height: 2.5; direction: ltr\">For example, in the figure on the right below, the red curve corresponds to D(p, q).</div>"
      ],
      "text/plain": [
       "<IPython.core.display.HTML object>"
      ]
     },
     "metadata": {},
     "output_type": "display_data"
    },
    {
     "data": {
      "text/html": [
       "<div class=\"entities\" style=\"line-height: 2.5; direction: ltr\">It drops to \n",
       "<mark class=\"entity\" style=\"background: #e4e7d2; padding: 0.45em 0.6em; margin: 0 0.25em; line-height: 1; border-radius: 0.35em; box-decoration-break: clone; -webkit-box-decoration-break: clone\">\n",
       "    zero\n",
       "    <span style=\"font-size: 0.8em; font-weight: bold; line-height: 1; border-radius: 0.35em; text-transform: uppercase; vertical-align: middle; margin-left: 0.5rem\">CARDINAL</span>\n",
       "</mark>\n",
       " when \n",
       "<mark class=\"entity\" style=\"background: #7aecec; padding: 0.45em 0.6em; margin: 0 0.25em; line-height: 1; border-radius: 0.35em; box-decoration-break: clone; -webkit-box-decoration-break: clone\">\n",
       "    x&gt;2\n",
       "    <span style=\"font-size: 0.8em; font-weight: bold; line-height: 1; border-radius: 0.35em; text-transform: uppercase; vertical-align: middle; margin-left: 0.5rem\">ORG</span>\n",
       "</mark>\n",
       " where p approaches 0.Note</div>"
      ],
      "text/plain": [
       "<IPython.core.display.HTML object>"
      ]
     },
     "metadata": {},
     "output_type": "display_data"
    },
    {
     "data": {
      "text/html": [
       "<div class=\"entities\" style=\"line-height: 2.5; direction: ltr\">: KL(p, q) is the integral of the red curve in the right.</div>"
      ],
      "text/plain": [
       "<IPython.core.display.HTML object>"
      ]
     },
     "metadata": {},
     "output_type": "display_data"
    },
    {
     "data": {
      "text/html": [
       "<div class=\"entities\" style=\"line-height: 2.5; direction: ltr\">What is the implication?</div>"
      ],
      "text/plain": [
       "<IPython.core.display.HTML object>"
      ]
     },
     "metadata": {},
     "output_type": "display_data"
    },
    {
     "data": {
      "text/html": [
       "<div class=\"entities\" style=\"line-height: 2.5; direction: ltr\">The \n",
       "<mark class=\"entity\" style=\"background: #7aecec; padding: 0.45em 0.6em; margin: 0 0.25em; line-height: 1; border-radius: 0.35em; box-decoration-break: clone; -webkit-box-decoration-break: clone\">\n",
       "    KL\n",
       "    <span style=\"font-size: 0.8em; font-weight: bold; line-height: 1; border-radius: 0.35em; text-transform: uppercase; vertical-align: middle; margin-left: 0.5rem\">ORG</span>\n",
       "</mark>\n",
       "-divergence DL(p, q) penalizes the generator if it misses some modes of images: the penalty is high where p(x) &gt; 0 but q(x)</div>"
      ],
      "text/plain": [
       "<IPython.core.display.HTML object>"
      ]
     },
     "metadata": {},
     "output_type": "display_data"
    },
    {
     "data": {
      "text/html": [
       "<div class=\"entities\" style=\"line-height: 2.5; direction: ltr\">→ \n",
       "<mark class=\"entity\" style=\"background: #e4e7d2; padding: 0.45em 0.6em; margin: 0 0.25em; line-height: 1; border-radius: 0.35em; box-decoration-break: clone; -webkit-box-decoration-break: clone\">\n",
       "    0\n",
       "    <span style=\"font-size: 0.8em; font-weight: bold; line-height: 1; border-radius: 0.35em; text-transform: uppercase; vertical-align: middle; margin-left: 0.5rem\">CARDINAL</span>\n",
       "</mark>\n",
       ".</div>"
      ],
      "text/plain": [
       "<IPython.core.display.HTML object>"
      ]
     },
     "metadata": {},
     "output_type": "display_data"
    },
    {
     "data": {
      "text/html": [
       "<div class=\"entities\" style=\"line-height: 2.5; direction: ltr\">Nevertheless, it is acceptable that some images do not look real.</div>"
      ],
      "text/plain": [
       "<IPython.core.display.HTML object>"
      ]
     },
     "metadata": {},
     "output_type": "display_data"
    },
    {
     "data": {
      "text/html": [
       "<div class=\"entities\" style=\"line-height: 2.5; direction: ltr\">The penalty is low when p(x)</div>"
      ],
      "text/plain": [
       "<IPython.core.display.HTML object>"
      ]
     },
     "metadata": {},
     "output_type": "display_data"
    },
    {
     "data": {
      "text/html": [
       "<div class=\"entities\" style=\"line-height: 2.5; direction: ltr\">→ \n",
       "<mark class=\"entity\" style=\"background: #e4e7d2; padding: 0.45em 0.6em; margin: 0 0.25em; line-height: 1; border-radius: 0.35em; box-decoration-break: clone; -webkit-box-decoration-break: clone\">\n",
       "    0\n",
       "    <span style=\"font-size: 0.8em; font-weight: bold; line-height: 1; border-radius: 0.35em; text-transform: uppercase; vertical-align: middle; margin-left: 0.5rem\">CARDINAL</span>\n",
       "</mark>\n",
       " but</div>"
      ],
      "text/plain": [
       "<IPython.core.display.HTML object>"
      ]
     },
     "metadata": {},
     "output_type": "display_data"
    },
    {
     "data": {
      "text/html": [
       "<div class=\"entities\" style=\"line-height: 2.5; direction: ltr\">q(x)&gt;0.</div>"
      ],
      "text/plain": [
       "<IPython.core.display.HTML object>"
      ]
     },
     "metadata": {},
     "output_type": "display_data"
    },
    {
     "data": {
      "text/html": [
       "<div class=\"entities\" style=\"line-height: 2.5; direction: ltr\">(Poorer quality but more diverse samples)On the other hand, the reverse KL-divergence DL(q, p) penalizes the generator if the images does not look real: high penalty if p(x)</div>"
      ],
      "text/plain": [
       "<IPython.core.display.HTML object>"
      ]
     },
     "metadata": {},
     "output_type": "display_data"
    },
    {
     "data": {
      "text/html": [
       "<div class=\"entities\" style=\"line-height: 2.5; direction: ltr\">→ \n",
       "<mark class=\"entity\" style=\"background: #e4e7d2; padding: 0.45em 0.6em; margin: 0 0.25em; line-height: 1; border-radius: 0.35em; box-decoration-break: clone; -webkit-box-decoration-break: clone\">\n",
       "    0\n",
       "    <span style=\"font-size: 0.8em; font-weight: bold; line-height: 1; border-radius: 0.35em; text-transform: uppercase; vertical-align: middle; margin-left: 0.5rem\">CARDINAL</span>\n",
       "</mark>\n",
       "</div>"
      ],
      "text/plain": [
       "<IPython.core.display.HTML object>"
      ]
     },
     "metadata": {},
     "output_type": "display_data"
    },
    {
     "data": {
      "text/html": [
       "<div class=\"entities\" style=\"line-height: 2.5; direction: ltr\">but q(x)</div>"
      ],
      "text/plain": [
       "<IPython.core.display.HTML object>"
      ]
     },
     "metadata": {},
     "output_type": "display_data"
    },
    {
     "data": {
      "text/html": [
       "<div class=\"entities\" style=\"line-height: 2.5; direction: ltr\">&gt;</div>"
      ],
      "text/plain": [
       "<IPython.core.display.HTML object>"
      ]
     },
     "metadata": {},
     "output_type": "display_data"
    },
    {
     "data": {
      "text/html": [
       "<div class=\"entities\" style=\"line-height: 2.5; direction: ltr\">\n",
       "<mark class=\"entity\" style=\"background: #e4e7d2; padding: 0.45em 0.6em; margin: 0 0.25em; line-height: 1; border-radius: 0.35em; box-decoration-break: clone; -webkit-box-decoration-break: clone\">\n",
       "    0\n",
       "    <span style=\"font-size: 0.8em; font-weight: bold; line-height: 1; border-radius: 0.35em; text-transform: uppercase; vertical-align: middle; margin-left: 0.5rem\">CARDINAL</span>\n",
       "</mark>\n",
       ".</div>"
      ],
      "text/plain": [
       "<IPython.core.display.HTML object>"
      ]
     },
     "metadata": {},
     "output_type": "display_data"
    },
    {
     "data": {
      "text/html": [
       "<div class=\"entities\" style=\"line-height: 2.5; direction: ltr\">But it explores less variety: low penalty if q(x)</div>"
      ],
      "text/plain": [
       "<IPython.core.display.HTML object>"
      ]
     },
     "metadata": {},
     "output_type": "display_data"
    },
    {
     "data": {
      "text/html": [
       "<div class=\"entities\" style=\"line-height: 2.5; direction: ltr\">→ \n",
       "<mark class=\"entity\" style=\"background: #e4e7d2; padding: 0.45em 0.6em; margin: 0 0.25em; line-height: 1; border-radius: 0.35em; box-decoration-break: clone; -webkit-box-decoration-break: clone\">\n",
       "    0\n",
       "    <span style=\"font-size: 0.8em; font-weight: bold; line-height: 1; border-radius: 0.35em; text-transform: uppercase; vertical-align: middle; margin-left: 0.5rem\">CARDINAL</span>\n",
       "</mark>\n",
       " but p(x)</div>"
      ],
      "text/plain": [
       "<IPython.core.display.HTML object>"
      ]
     },
     "metadata": {},
     "output_type": "display_data"
    },
    {
     "data": {
      "text/html": [
       "<div class=\"entities\" style=\"line-height: 2.5; direction: ltr\">&gt; 0.</div>"
      ],
      "text/plain": [
       "<IPython.core.display.HTML object>"
      ]
     },
     "metadata": {},
     "output_type": "display_data"
    },
    {
     "data": {
      "text/html": [
       "<div class=\"entities\" style=\"line-height: 2.5; direction: ltr\">(Better quality but less diverse samples)Some generative models (other than GANs) use \n",
       "<mark class=\"entity\" style=\"background: #7aecec; padding: 0.45em 0.6em; margin: 0 0.25em; line-height: 1; border-radius: 0.35em; box-decoration-break: clone; -webkit-box-decoration-break: clone\">\n",
       "    MLE\n",
       "    <span style=\"font-size: 0.8em; font-weight: bold; line-height: 1; border-radius: 0.35em; text-transform: uppercase; vertical-align: middle; margin-left: 0.5rem\">ORG</span>\n",
       "</mark>\n",
       " (a.k.a KL-divergence) to create models.</div>"
      ],
      "text/plain": [
       "<IPython.core.display.HTML object>"
      ]
     },
     "metadata": {},
     "output_type": "display_data"
    },
    {
     "data": {
      "text/html": [
       "<div class=\"entities\" style=\"line-height: 2.5; direction: ltr\">It was originally believed that \n",
       "<mark class=\"entity\" style=\"background: #7aecec; padding: 0.45em 0.6em; margin: 0 0.25em; line-height: 1; border-radius: 0.35em; box-decoration-break: clone; -webkit-box-decoration-break: clone\">\n",
       "    KL\n",
       "    <span style=\"font-size: 0.8em; font-weight: bold; line-height: 1; border-radius: 0.35em; text-transform: uppercase; vertical-align: middle; margin-left: 0.5rem\">ORG</span>\n",
       "</mark>\n",
       "-divergence causes poorer quality of images (blurry images).</div>"
      ],
      "text/plain": [
       "<IPython.core.display.HTML object>"
      ]
     },
     "metadata": {},
     "output_type": "display_data"
    },
    {
     "data": {
      "text/html": [
       "<div class=\"entities\" style=\"line-height: 2.5; direction: ltr\">But be warned that some empirical experiments may have disputed this claim.</div>"
      ],
      "text/plain": [
       "<IPython.core.display.HTML object>"
      ]
     },
     "metadata": {},
     "output_type": "display_data"
    },
    {
     "data": {
      "text/html": [
       "<div class=\"entities\" style=\"line-height: 2.5; direction: ltr\">JS-DivergenceJS-divergence is defined as:JS-divergence is symmetrical.</div>"
      ],
      "text/plain": [
       "<IPython.core.display.HTML object>"
      ]
     },
     "metadata": {},
     "output_type": "display_data"
    },
    {
     "data": {
      "text/html": [
       "<div class=\"entities\" style=\"line-height: 2.5; direction: ltr\">Unlike \n",
       "<mark class=\"entity\" style=\"background: #7aecec; padding: 0.45em 0.6em; margin: 0 0.25em; line-height: 1; border-radius: 0.35em; box-decoration-break: clone; -webkit-box-decoration-break: clone\">\n",
       "    KL\n",
       "    <span style=\"font-size: 0.8em; font-weight: bold; line-height: 1; border-radius: 0.35em; text-transform: uppercase; vertical-align: middle; margin-left: 0.5rem\">ORG</span>\n",
       "</mark>\n",
       "-divergence, it will penalize poor images badly.</div>"
      ],
      "text/plain": [
       "<IPython.core.display.HTML object>"
      ]
     },
     "metadata": {},
     "output_type": "display_data"
    },
    {
     "data": {
      "text/html": [
       "<div class=\"entities\" style=\"line-height: 2.5; direction: ltr\">(when p(x)→ \n",
       "<mark class=\"entity\" style=\"background: #e4e7d2; padding: 0.45em 0.6em; margin: 0 0.25em; line-height: 1; border-radius: 0.35em; box-decoration-break: clone; -webkit-box-decoration-break: clone\">\n",
       "    0\n",
       "    <span style=\"font-size: 0.8em; font-weight: bold; line-height: 1; border-radius: 0.35em; text-transform: uppercase; vertical-align: middle; margin-left: 0.5rem\">CARDINAL</span>\n",
       "</mark>\n",
       " and q(x) &gt; 0) In GAN, if the discriminator is optimal (performing well in distinguishing images), the generator’s objective function becomes (proof):So optimizing the generator model is treated as optimizing the JS-divergence.</div>"
      ],
      "text/plain": [
       "<IPython.core.display.HTML object>"
      ]
     },
     "metadata": {},
     "output_type": "display_data"
    },
    {
     "data": {
      "text/html": [
       "<div class=\"entities\" style=\"line-height: 2.5; direction: ltr\">In experiments, \n",
       "<mark class=\"entity\" style=\"background: #7aecec; padding: 0.45em 0.6em; margin: 0 0.25em; line-height: 1; border-radius: 0.35em; box-decoration-break: clone; -webkit-box-decoration-break: clone\">\n",
       "    GAN\n",
       "    <span style=\"font-size: 0.8em; font-weight: bold; line-height: 1; border-radius: 0.35em; text-transform: uppercase; vertical-align: middle; margin-left: 0.5rem\">ORG</span>\n",
       "</mark>\n",
       " produces nicer pictures comparing to other generative models that use \n",
       "<mark class=\"entity\" style=\"background: #7aecec; padding: 0.45em 0.6em; margin: 0 0.25em; line-height: 1; border-radius: 0.35em; box-decoration-break: clone; -webkit-box-decoration-break: clone\">\n",
       "    KL\n",
       "    <span style=\"font-size: 0.8em; font-weight: bold; line-height: 1; border-radius: 0.35em; text-transform: uppercase; vertical-align: middle; margin-left: 0.5rem\">ORG</span>\n",
       "</mark>\n",
       "-divergence.</div>"
      ],
      "text/plain": [
       "<IPython.core.display.HTML object>"
      ]
     },
     "metadata": {},
     "output_type": "display_data"
    },
    {
     "data": {
      "text/html": [
       "<div class=\"entities\" style=\"line-height: 2.5; direction: ltr\">Follow the logic in the last section, early research speculates that optimizing JS-divergence, rather than \n",
       "<mark class=\"entity\" style=\"background: #7aecec; padding: 0.45em 0.6em; margin: 0 0.25em; line-height: 1; border-radius: 0.35em; box-decoration-break: clone; -webkit-box-decoration-break: clone\">\n",
       "    KL\n",
       "    <span style=\"font-size: 0.8em; font-weight: bold; line-height: 1; border-radius: 0.35em; text-transform: uppercase; vertical-align: middle; margin-left: 0.5rem\">ORG</span>\n",
       "</mark>\n",
       "-divergence, creates better but less diverse images.</div>"
      ],
      "text/plain": [
       "<IPython.core.display.HTML object>"
      ]
     },
     "metadata": {},
     "output_type": "display_data"
    },
    {
     "data": {
      "text/html": [
       "<div class=\"entities\" style=\"line-height: 2.5; direction: ltr\">However, some researchers have since retracted those claims because experiments with \n",
       "<mark class=\"entity\" style=\"background: #7aecec; padding: 0.45em 0.6em; margin: 0 0.25em; line-height: 1; border-radius: 0.35em; box-decoration-break: clone; -webkit-box-decoration-break: clone\">\n",
       "    GAN\n",
       "    <span style=\"font-size: 0.8em; font-weight: bold; line-height: 1; border-radius: 0.35em; text-transform: uppercase; vertical-align: middle; margin-left: 0.5rem\">ORG</span>\n",
       "</mark>\n",
       " using \n",
       "<mark class=\"entity\" style=\"background: #7aecec; padding: 0.45em 0.6em; margin: 0 0.25em; line-height: 1; border-radius: 0.35em; box-decoration-break: clone; -webkit-box-decoration-break: clone\">\n",
       "    MLE\n",
       "    <span style=\"font-size: 0.8em; font-weight: bold; line-height: 1; border-radius: 0.35em; text-transform: uppercase; vertical-align: middle; margin-left: 0.5rem\">ORG</span>\n",
       "</mark>\n",
       " produces similar image quality but still suffer image diversity problem.</div>"
      ],
      "text/plain": [
       "<IPython.core.display.HTML object>"
      ]
     },
     "metadata": {},
     "output_type": "display_data"
    },
    {
     "data": {
      "text/html": [
       "<div class=\"entities\" style=\"line-height: 2.5; direction: ltr\">But significant efforts have already taken place in studying the weakness of JS-Divergence in GAN training.</div>"
      ],
      "text/plain": [
       "<IPython.core.display.HTML object>"
      ]
     },
     "metadata": {},
     "output_type": "display_data"
    },
    {
     "data": {
      "text/html": [
       "<div class=\"entities\" style=\"line-height: 2.5; direction: ltr\">These works are significant regardless of the debates.</div>"
      ],
      "text/plain": [
       "<IPython.core.display.HTML object>"
      ]
     },
     "metadata": {},
     "output_type": "display_data"
    },
    {
     "data": {
      "text/html": [
       "<div class=\"entities\" style=\"line-height: 2.5; direction: ltr\">Therefore, we will dig deeper into the issues of the JS-divergence next.</div>"
      ],
      "text/plain": [
       "<IPython.core.display.HTML object>"
      ]
     },
     "metadata": {},
     "output_type": "display_data"
    },
    {
     "data": {
      "text/html": [
       "<div class=\"entities\" style=\"line-height: 2.5; direction: ltr\">Vanishing gradients in \n",
       "<mark class=\"entity\" style=\"background: #7aecec; padding: 0.45em 0.6em; margin: 0 0.25em; line-height: 1; border-radius: 0.35em; box-decoration-break: clone; -webkit-box-decoration-break: clone\">\n",
       "    JS-DivergenceRecall\n",
       "    <span style=\"font-size: 0.8em; font-weight: bold; line-height: 1; border-radius: 0.35em; text-transform: uppercase; vertical-align: middle; margin-left: 0.5rem\">ORG</span>\n",
       "</mark>\n",
       " that when the discriminator is optimal, the objective function for the generator is:What happens to the \n",
       "<mark class=\"entity\" style=\"background: #7aecec; padding: 0.45em 0.6em; margin: 0 0.25em; line-height: 1; border-radius: 0.35em; box-decoration-break: clone; -webkit-box-decoration-break: clone\">\n",
       "    JS\n",
       "    <span style=\"font-size: 0.8em; font-weight: bold; line-height: 1; border-radius: 0.35em; text-transform: uppercase; vertical-align: middle; margin-left: 0.5rem\">ORG</span>\n",
       "</mark>\n",
       "-divergence gradient when the data distribution q of the generator</div>"
      ],
      "text/plain": [
       "<IPython.core.display.HTML object>"
      ]
     },
     "metadata": {},
     "output_type": "display_data"
    },
    {
     "data": {
      "text/html": [
       "<div class=\"entities\" style=\"line-height: 2.5; direction: ltr\">’s images does not match with the ground truth p for the real images.</div>"
      ],
      "text/plain": [
       "<IPython.core.display.HTML object>"
      ]
     },
     "metadata": {},
     "output_type": "display_data"
    },
    {
     "data": {
      "text/html": [
       "<div class=\"entities\" style=\"line-height: 2.5; direction: ltr\">Let’s consider an example in which p and q are \n",
       "<mark class=\"entity\" style=\"background: #aa9cfc; padding: 0.45em 0.6em; margin: 0 0.25em; line-height: 1; border-radius: 0.35em; box-decoration-break: clone; -webkit-box-decoration-break: clone\">\n",
       "    Gaussian\n",
       "    <span style=\"font-size: 0.8em; font-weight: bold; line-height: 1; border-radius: 0.35em; text-transform: uppercase; vertical-align: middle; margin-left: 0.5rem\">PERSON</span>\n",
       "</mark>\n",
       " distributed and the mean of p is \n",
       "<mark class=\"entity\" style=\"background: #e4e7d2; padding: 0.45em 0.6em; margin: 0 0.25em; line-height: 1; border-radius: 0.35em; box-decoration-break: clone; -webkit-box-decoration-break: clone\">\n",
       "    zero\n",
       "    <span style=\"font-size: 0.8em; font-weight: bold; line-height: 1; border-radius: 0.35em; text-transform: uppercase; vertical-align: middle; margin-left: 0.5rem\">CARDINAL</span>\n",
       "</mark>\n",
       ".</div>"
      ],
      "text/plain": [
       "<IPython.core.display.HTML object>"
      ]
     },
     "metadata": {},
     "output_type": "display_data"
    },
    {
     "data": {
      "text/html": [
       "<div class=\"entities\" style=\"line-height: 2.5; direction: ltr\">Let’s consider q with different means to study the gradient of \n",
       "<mark class=\"entity\" style=\"background: #7aecec; padding: 0.45em 0.6em; margin: 0 0.25em; line-height: 1; border-radius: 0.35em; box-decoration-break: clone; -webkit-box-decoration-break: clone\">\n",
       "    JS(p\n",
       "    <span style=\"font-size: 0.8em; font-weight: bold; line-height: 1; border-radius: 0.35em; text-transform: uppercase; vertical-align: middle; margin-left: 0.5rem\">ORG</span>\n",
       "</mark>\n",
       ", q).Here, we plot the JS-divergence \n",
       "<mark class=\"entity\" style=\"background: #bfeeb7; padding: 0.45em 0.6em; margin: 0 0.25em; line-height: 1; border-radius: 0.35em; box-decoration-break: clone; -webkit-box-decoration-break: clone\">\n",
       "    JS(p\n",
       "    <span style=\"font-size: 0.8em; font-weight: bold; line-height: 1; border-radius: 0.35em; text-transform: uppercase; vertical-align: middle; margin-left: 0.5rem\">PRODUCT</span>\n",
       "</mark>\n",
       ", q) between p and q with means of q ranging from \n",
       "<mark class=\"entity\" style=\"background: #e4e7d2; padding: 0.45em 0.6em; margin: 0 0.25em; line-height: 1; border-radius: 0.35em; box-decoration-break: clone; -webkit-box-decoration-break: clone\">\n",
       "    0\n",
       "    <span style=\"font-size: 0.8em; font-weight: bold; line-height: 1; border-radius: 0.35em; text-transform: uppercase; vertical-align: middle; margin-left: 0.5rem\">CARDINAL</span>\n",
       "</mark>\n",
       " to \n",
       "<mark class=\"entity\" style=\"background: #e4e7d2; padding: 0.45em 0.6em; margin: 0 0.25em; line-height: 1; border-radius: 0.35em; box-decoration-break: clone; -webkit-box-decoration-break: clone\">\n",
       "    30\n",
       "    <span style=\"font-size: 0.8em; font-weight: bold; line-height: 1; border-radius: 0.35em; text-transform: uppercase; vertical-align: middle; margin-left: 0.5rem\">CARDINAL</span>\n",
       "</mark>\n",
       ".</div>"
      ],
      "text/plain": [
       "<IPython.core.display.HTML object>"
      ]
     },
     "metadata": {},
     "output_type": "display_data"
    },
    {
     "data": {
      "text/html": [
       "<div class=\"entities\" style=\"line-height: 2.5; direction: ltr\">As shown below, the gradient for the \n",
       "<mark class=\"entity\" style=\"background: #7aecec; padding: 0.45em 0.6em; margin: 0 0.25em; line-height: 1; border-radius: 0.35em; box-decoration-break: clone; -webkit-box-decoration-break: clone\">\n",
       "    JS\n",
       "    <span style=\"font-size: 0.8em; font-weight: bold; line-height: 1; border-radius: 0.35em; text-transform: uppercase; vertical-align: middle; margin-left: 0.5rem\">ORG</span>\n",
       "</mark>\n",
       "-divergence vanishes from q1 to q3.</div>"
      ],
      "text/plain": [
       "<IPython.core.display.HTML object>"
      ]
     },
     "metadata": {},
     "output_type": "display_data"
    },
    {
     "data": {
      "text/html": [
       "<div class=\"entities\" style=\"line-height: 2.5; direction: ltr\">The \n",
       "<mark class=\"entity\" style=\"background: #7aecec; padding: 0.45em 0.6em; margin: 0 0.25em; line-height: 1; border-radius: 0.35em; box-decoration-break: clone; -webkit-box-decoration-break: clone\">\n",
       "    GAN\n",
       "    <span style=\"font-size: 0.8em; font-weight: bold; line-height: 1; border-radius: 0.35em; text-transform: uppercase; vertical-align: middle; margin-left: 0.5rem\">ORG</span>\n",
       "</mark>\n",
       " generator will learn extremely slow to nothing when cost is saturated in those regions.</div>"
      ],
      "text/plain": [
       "<IPython.core.display.HTML object>"
      ]
     },
     "metadata": {},
     "output_type": "display_data"
    },
    {
     "data": {
      "text/html": [
       "<div class=\"entities\" style=\"line-height: 2.5; direction: ltr\">In particular, in early training, p and q are very different and the generator learns very slow.</div>"
      ],
      "text/plain": [
       "<IPython.core.display.HTML object>"
      ]
     },
     "metadata": {},
     "output_type": "display_data"
    },
    {
     "data": {
      "text/html": [
       "<div class=\"entities\" style=\"line-height: 2.5; direction: ltr\">Unstable gradientsBecause of the vanishing gradient, an alternative cost function is proposed by the original \n",
       "<mark class=\"entity\" style=\"background: #7aecec; padding: 0.45em 0.6em; margin: 0 0.25em; line-height: 1; border-radius: 0.35em; box-decoration-break: clone; -webkit-box-decoration-break: clone\">\n",
       "    GAN\n",
       "    <span style=\"font-size: 0.8em; font-weight: bold; line-height: 1; border-radius: 0.35em; text-transform: uppercase; vertical-align: middle; margin-left: 0.5rem\">ORG</span>\n",
       "</mark>\n",
       " paper to address the gradient vanishing problem.</div>"
      ],
      "text/plain": [
       "<IPython.core.display.HTML object>"
      ]
     },
     "metadata": {},
     "output_type": "display_data"
    },
    {
     "data": {
      "text/html": [
       "<div class=\"entities\" style=\"line-height: 2.5; direction: ltr\">The corresponding gradient according to a different research paper from \n",
       "<mark class=\"entity\" style=\"background: #7aecec; padding: 0.45em 0.6em; margin: 0 0.25em; line-height: 1; border-radius: 0.35em; box-decoration-break: clone; -webkit-box-decoration-break: clone\">\n",
       "    Arjovsky\n",
       "    <span style=\"font-size: 0.8em; font-weight: bold; line-height: 1; border-radius: 0.35em; text-transform: uppercase; vertical-align: middle; margin-left: 0.5rem\">ORG</span>\n",
       "</mark>\n",
       " is:It includes a reverse \n",
       "<mark class=\"entity\" style=\"background: #7aecec; padding: 0.45em 0.6em; margin: 0 0.25em; line-height: 1; border-radius: 0.35em; box-decoration-break: clone; -webkit-box-decoration-break: clone\">\n",
       "    KL\n",
       "    <span style=\"font-size: 0.8em; font-weight: bold; line-height: 1; border-radius: 0.35em; text-transform: uppercase; vertical-align: middle; margin-left: 0.5rem\">ORG</span>\n",
       "</mark>\n",
       "-divergence term which \n",
       "<mark class=\"entity\" style=\"background: #7aecec; padding: 0.45em 0.6em; margin: 0 0.25em; line-height: 1; border-radius: 0.35em; box-decoration-break: clone; -webkit-box-decoration-break: clone\">\n",
       "    Arjovsky\n",
       "    <span style=\"font-size: 0.8em; font-weight: bold; line-height: 1; border-radius: 0.35em; text-transform: uppercase; vertical-align: middle; margin-left: 0.5rem\">ORG</span>\n",
       "</mark>\n",
       " uses it to explain why \n",
       "<mark class=\"entity\" style=\"background: #7aecec; padding: 0.45em 0.6em; margin: 0 0.25em; line-height: 1; border-radius: 0.35em; box-decoration-break: clone; -webkit-box-decoration-break: clone\">\n",
       "    GAN\n",
       "    <span style=\"font-size: 0.8em; font-weight: bold; line-height: 1; border-radius: 0.35em; text-transform: uppercase; vertical-align: middle; margin-left: 0.5rem\">ORG</span>\n",
       "</mark>\n",
       " has higher quality but less diverse image comparing to generative models based on \n",
       "<mark class=\"entity\" style=\"background: #7aecec; padding: 0.45em 0.6em; margin: 0 0.25em; line-height: 1; border-radius: 0.35em; box-decoration-break: clone; -webkit-box-decoration-break: clone\">\n",
       "    KL\n",
       "    <span style=\"font-size: 0.8em; font-weight: bold; line-height: 1; border-radius: 0.35em; text-transform: uppercase; vertical-align: middle; margin-left: 0.5rem\">ORG</span>\n",
       "</mark>\n",
       "-divergence.</div>"
      ],
      "text/plain": [
       "<IPython.core.display.HTML object>"
      ]
     },
     "metadata": {},
     "output_type": "display_data"
    },
    {
     "data": {
      "text/html": [
       "<div class=\"entities\" style=\"line-height: 2.5; direction: ltr\">But the same analysis claims that the gradients fluctuate and cause instability to the model.</div>"
      ],
      "text/plain": [
       "<IPython.core.display.HTML object>"
      ]
     },
     "metadata": {},
     "output_type": "display_data"
    },
    {
     "data": {
      "text/html": [
       "<div class=\"entities\" style=\"line-height: 2.5; direction: ltr\">To illustrate the point, \n",
       "<mark class=\"entity\" style=\"background: #7aecec; padding: 0.45em 0.6em; margin: 0 0.25em; line-height: 1; border-radius: 0.35em; box-decoration-break: clone; -webkit-box-decoration-break: clone\">\n",
       "    Arjovsky\n",
       "    <span style=\"font-size: 0.8em; font-weight: bold; line-height: 1; border-radius: 0.35em; text-transform: uppercase; vertical-align: middle; margin-left: 0.5rem\">ORG</span>\n",
       "</mark>\n",
       " freezes the generator and trains the discrminator continuously.</div>"
      ],
      "text/plain": [
       "<IPython.core.display.HTML object>"
      ]
     },
     "metadata": {},
     "output_type": "display_data"
    },
    {
     "data": {
      "text/html": [
       "<div class=\"entities\" style=\"line-height: 2.5; direction: ltr\">The gradient for the generator starts increasing with larger variants.</div>"
      ],
      "text/plain": [
       "<IPython.core.display.HTML object>"
      ]
     },
     "metadata": {},
     "output_type": "display_data"
    },
    {
     "data": {
      "text/html": [
       "<div class=\"entities\" style=\"line-height: 2.5; direction: ltr\">SourceThe experiment above is not how we train \n",
       "<mark class=\"entity\" style=\"background: #7aecec; padding: 0.45em 0.6em; margin: 0 0.25em; line-height: 1; border-radius: 0.35em; box-decoration-break: clone; -webkit-box-decoration-break: clone\">\n",
       "    GAN\n",
       "    <span style=\"font-size: 0.8em; font-weight: bold; line-height: 1; border-radius: 0.35em; text-transform: uppercase; vertical-align: middle; margin-left: 0.5rem\">ORG</span>\n",
       "</mark>\n",
       ".</div>"
      ],
      "text/plain": [
       "<IPython.core.display.HTML object>"
      ]
     },
     "metadata": {},
     "output_type": "display_data"
    },
    {
     "data": {
      "text/html": [
       "<div class=\"entities\" style=\"line-height: 2.5; direction: ltr\">However, mathematically, \n",
       "<mark class=\"entity\" style=\"background: #7aecec; padding: 0.45em 0.6em; margin: 0 0.25em; line-height: 1; border-radius: 0.35em; box-decoration-break: clone; -webkit-box-decoration-break: clone\">\n",
       "    Arjovsky\n",
       "    <span style=\"font-size: 0.8em; font-weight: bold; line-height: 1; border-radius: 0.35em; text-transform: uppercase; vertical-align: middle; margin-left: 0.5rem\">ORG</span>\n",
       "</mark>\n",
       " shows the \n",
       "<mark class=\"entity\" style=\"background: #e4e7d2; padding: 0.45em 0.6em; margin: 0 0.25em; line-height: 1; border-radius: 0.35em; box-decoration-break: clone; -webkit-box-decoration-break: clone\">\n",
       "    first\n",
       "    <span style=\"font-size: 0.8em; font-weight: bold; line-height: 1; border-radius: 0.35em; text-transform: uppercase; vertical-align: middle; margin-left: 0.5rem\">ORDINAL</span>\n",
       "</mark>\n",
       " GAN generator’s objective function has vanishing gradients and the alternative cost function</div>"
      ],
      "text/plain": [
       "<IPython.core.display.HTML object>"
      ]
     },
     "metadata": {},
     "output_type": "display_data"
    },
    {
     "data": {
      "text/html": [
       "<div class=\"entities\" style=\"line-height: 2.5; direction: ltr\">has fluctuating gradients that cause instability to the models.</div>"
      ],
      "text/plain": [
       "<IPython.core.display.HTML object>"
      ]
     },
     "metadata": {},
     "output_type": "display_data"
    },
    {
     "data": {
      "text/html": [
       "<div class=\"entities\" style=\"line-height: 2.5; direction: ltr\">Since the original \n",
       "<mark class=\"entity\" style=\"background: #7aecec; padding: 0.45em 0.6em; margin: 0 0.25em; line-height: 1; border-radius: 0.35em; box-decoration-break: clone; -webkit-box-decoration-break: clone\">\n",
       "    GAN\n",
       "    <span style=\"font-size: 0.8em; font-weight: bold; line-height: 1; border-radius: 0.35em; text-transform: uppercase; vertical-align: middle; margin-left: 0.5rem\">ORG</span>\n",
       "</mark>\n",
       " paper, there is a gold rush in finding new cost functions, like \n",
       "<mark class=\"entity\" style=\"background: #aa9cfc; padding: 0.45em 0.6em; margin: 0 0.25em; line-height: 1; border-radius: 0.35em; box-decoration-break: clone; -webkit-box-decoration-break: clone\">\n",
       "    LSGAN\n",
       "    <span style=\"font-size: 0.8em; font-weight: bold; line-height: 1; border-radius: 0.35em; text-transform: uppercase; vertical-align: middle; margin-left: 0.5rem\">PERSON</span>\n",
       "</mark>\n",
       ", \n",
       "<mark class=\"entity\" style=\"background: #7aecec; padding: 0.45em 0.6em; margin: 0 0.25em; line-height: 1; border-radius: 0.35em; box-decoration-break: clone; -webkit-box-decoration-break: clone\">\n",
       "    WGAN\n",
       "    <span style=\"font-size: 0.8em; font-weight: bold; line-height: 1; border-radius: 0.35em; text-transform: uppercase; vertical-align: middle; margin-left: 0.5rem\">ORG</span>\n",
       "</mark>\n",
       ", \n",
       "<mark class=\"entity\" style=\"background: #7aecec; padding: 0.45em 0.6em; margin: 0 0.25em; line-height: 1; border-radius: 0.35em; box-decoration-break: clone; -webkit-box-decoration-break: clone\">\n",
       "    WGAN-GP\n",
       "    <span style=\"font-size: 0.8em; font-weight: bold; line-height: 1; border-radius: 0.35em; text-transform: uppercase; vertical-align: middle; margin-left: 0.5rem\">ORG</span>\n",
       "</mark>\n",
       ", \n",
       "<mark class=\"entity\" style=\"background: #7aecec; padding: 0.45em 0.6em; margin: 0 0.25em; line-height: 1; border-radius: 0.35em; box-decoration-break: clone; -webkit-box-decoration-break: clone\">\n",
       "    BEGAN\n",
       "    <span style=\"font-size: 0.8em; font-weight: bold; line-height: 1; border-radius: 0.35em; text-transform: uppercase; vertical-align: middle; margin-left: 0.5rem\">ORG</span>\n",
       "</mark>\n",
       " etc…</div>"
      ],
      "text/plain": [
       "<IPython.core.display.HTML object>"
      ]
     },
     "metadata": {},
     "output_type": "display_data"
    },
    {
     "data": {
      "text/html": [
       "<div class=\"entities\" style=\"line-height: 2.5; direction: ltr\">Some methods are based on new mathematical models and others based on intuition back up by experiments.</div>"
      ],
      "text/plain": [
       "<IPython.core.display.HTML object>"
      ]
     },
     "metadata": {},
     "output_type": "display_data"
    },
    {
     "data": {
      "text/html": [
       "<div class=\"entities\" style=\"line-height: 2.5; direction: ltr\">The objective is to find a cost function with smoother and non-vanishing gradients.</div>"
      ],
      "text/plain": [
       "<IPython.core.display.HTML object>"
      ]
     },
     "metadata": {},
     "output_type": "display_data"
    },
    {
     "data": {
      "text/html": [
       "<div class=\"entities\" style=\"line-height: 2.5; direction: ltr\">However, a \n",
       "<mark class=\"entity\" style=\"background: #e4e7d2; padding: 0.45em 0.6em; margin: 0 0.25em; line-height: 1; border-radius: 0.35em; box-decoration-break: clone; -webkit-box-decoration-break: clone\">\n",
       "    2017\n",
       "    <span style=\"font-size: 0.8em; font-weight: bold; line-height: 1; border-radius: 0.35em; text-transform: uppercase; vertical-align: middle; margin-left: 0.5rem\">CARDINAL</span>\n",
       "</mark>\n",
       " \n",
       "<mark class=\"entity\" style=\"background: #7aecec; padding: 0.45em 0.6em; margin: 0 0.25em; line-height: 1; border-radius: 0.35em; box-decoration-break: clone; -webkit-box-decoration-break: clone\">\n",
       "    Google Brain\n",
       "    <span style=\"font-size: 0.8em; font-weight: bold; line-height: 1; border-radius: 0.35em; text-transform: uppercase; vertical-align: middle; margin-left: 0.5rem\">ORG</span>\n",
       "</mark>\n",
       " paper “Are GANs \n",
       "<mark class=\"entity\" style=\"background: #7aecec; padding: 0.45em 0.6em; margin: 0 0.25em; line-height: 1; border-radius: 0.35em; box-decoration-break: clone; -webkit-box-decoration-break: clone\">\n",
       "    Created Equal\n",
       "    <span style=\"font-size: 0.8em; font-weight: bold; line-height: 1; border-radius: 0.35em; text-transform: uppercase; vertical-align: middle; margin-left: 0.5rem\">ORG</span>\n",
       "</mark>\n",
       "?</div>"
      ],
      "text/plain": [
       "<IPython.core.display.HTML object>"
      ]
     },
     "metadata": {},
     "output_type": "display_data"
    },
    {
     "data": {
      "text/html": [
       "<div class=\"entities\" style=\"line-height: 2.5; direction: ltr\">” claims thatFinally, we did not find evidence that any of the tested algorithms consistently outperforms the original one.</div>"
      ],
      "text/plain": [
       "<IPython.core.display.HTML object>"
      ]
     },
     "metadata": {},
     "output_type": "display_data"
    },
    {
     "data": {
      "text/html": [
       "<div class=\"entities\" style=\"line-height: 2.5; direction: ltr\">If any new proposed cost functions deliver a knockout punch in improving image quality, we will not have this debate.</div>"
      ],
      "text/plain": [
       "<IPython.core.display.HTML object>"
      ]
     },
     "metadata": {},
     "output_type": "display_data"
    },
    {
     "data": {
      "text/html": [
       "<div class=\"entities\" style=\"line-height: 2.5; direction: ltr\">The doomsday picture on the original cost functions from the \n",
       "<mark class=\"entity\" style=\"background: #7aecec; padding: 0.45em 0.6em; margin: 0 0.25em; line-height: 1; border-radius: 0.35em; box-decoration-break: clone; -webkit-box-decoration-break: clone\">\n",
       "    Arjovsky\n",
       "    <span style=\"font-size: 0.8em; font-weight: bold; line-height: 1; border-radius: 0.35em; text-transform: uppercase; vertical-align: middle; margin-left: 0.5rem\">ORG</span>\n",
       "</mark>\n",
       "’s mathematical model does not fully materialize either.</div>"
      ],
      "text/plain": [
       "<IPython.core.display.HTML object>"
      ]
     },
     "metadata": {},
     "output_type": "display_data"
    },
    {
     "data": {
      "text/html": [
       "<div class=\"entities\" style=\"line-height: 2.5; direction: ltr\">But I will cautious readers of prematurely declare cost functions does not matter.</div>"
      ],
      "text/plain": [
       "<IPython.core.display.HTML object>"
      ]
     },
     "metadata": {},
     "output_type": "display_data"
    },
    {
     "data": {
      "text/html": [
       "<div class=\"entities\" style=\"line-height: 2.5; direction: ltr\">My thoughts on the \n",
       "<mark class=\"entity\" style=\"background: #7aecec; padding: 0.45em 0.6em; margin: 0 0.25em; line-height: 1; border-radius: 0.35em; box-decoration-break: clone; -webkit-box-decoration-break: clone\">\n",
       "    Google Brain\n",
       "    <span style=\"font-size: 0.8em; font-weight: bold; line-height: 1; border-radius: 0.35em; text-transform: uppercase; vertical-align: middle; margin-left: 0.5rem\">ORG</span>\n",
       "</mark>\n",
       " paper can be find here.</div>"
      ],
      "text/plain": [
       "<IPython.core.display.HTML object>"
      ]
     },
     "metadata": {},
     "output_type": "display_data"
    },
    {
     "data": {
      "text/html": [
       "<div class=\"entities\" style=\"line-height: 2.5; direction: ltr\">What is my take?</div>"
      ],
      "text/plain": [
       "<IPython.core.display.HTML object>"
      ]
     },
     "metadata": {},
     "output_type": "display_data"
    },
    {
     "data": {
      "text/html": [
       "<div class=\"entities\" style=\"line-height: 2.5; direction: ltr\">Training GAN fails easily.</div>"
      ],
      "text/plain": [
       "<IPython.core.display.HTML object>"
      ]
     },
     "metadata": {},
     "output_type": "display_data"
    },
    {
     "data": {
      "text/html": [
       "<div class=\"entities\" style=\"line-height: 2.5; direction: ltr\">Instead of trying out many cost functions at the beginning, debug your design and code \n",
       "<mark class=\"entity\" style=\"background: #e4e7d2; padding: 0.45em 0.6em; margin: 0 0.25em; line-height: 1; border-radius: 0.35em; box-decoration-break: clone; -webkit-box-decoration-break: clone\">\n",
       "    first\n",
       "    <span style=\"font-size: 0.8em; font-weight: bold; line-height: 1; border-radius: 0.35em; text-transform: uppercase; vertical-align: middle; margin-left: 0.5rem\">ORDINAL</span>\n",
       "</mark>\n",
       ".</div>"
      ],
      "text/plain": [
       "<IPython.core.display.HTML object>"
      ]
     },
     "metadata": {},
     "output_type": "display_data"
    },
    {
     "data": {
      "text/html": [
       "<div class=\"entities\" style=\"line-height: 2.5; direction: ltr\">Next try hard to tune the hyperparameter because \n",
       "<mark class=\"entity\" style=\"background: #7aecec; padding: 0.45em 0.6em; margin: 0 0.25em; line-height: 1; border-radius: 0.35em; box-decoration-break: clone; -webkit-box-decoration-break: clone\">\n",
       "    GAN\n",
       "    <span style=\"font-size: 0.8em; font-weight: bold; line-height: 1; border-radius: 0.35em; text-transform: uppercase; vertical-align: middle; margin-left: 0.5rem\">ORG</span>\n",
       "</mark>\n",
       " models are sensitive to them.</div>"
      ],
      "text/plain": [
       "<IPython.core.display.HTML object>"
      ]
     },
     "metadata": {},
     "output_type": "display_data"
    },
    {
     "data": {
      "text/html": [
       "<div class=\"entities\" style=\"line-height: 2.5; direction: ltr\">Do it before trying cost functions randomly.</div>"
      ],
      "text/plain": [
       "<IPython.core.display.HTML object>"
      ]
     },
     "metadata": {},
     "output_type": "display_data"
    },
    {
     "data": {
      "text/html": [
       "<div class=\"entities\" style=\"line-height: 2.5; direction: ltr\">Why mode collapse in GAN?Mode collapse is one of the hardest problems to solve in \n",
       "<mark class=\"entity\" style=\"background: #7aecec; padding: 0.45em 0.6em; margin: 0 0.25em; line-height: 1; border-radius: 0.35em; box-decoration-break: clone; -webkit-box-decoration-break: clone\">\n",
       "    GAN\n",
       "    <span style=\"font-size: 0.8em; font-weight: bold; line-height: 1; border-radius: 0.35em; text-transform: uppercase; vertical-align: middle; margin-left: 0.5rem\">ORG</span>\n",
       "</mark>\n",
       ".</div>"
      ],
      "text/plain": [
       "<IPython.core.display.HTML object>"
      ]
     },
     "metadata": {},
     "output_type": "display_data"
    },
    {
     "data": {
      "text/html": [
       "<div class=\"entities\" style=\"line-height: 2.5; direction: ltr\">A complete collapse is not common but a partial collapse happens often.</div>"
      ],
      "text/plain": [
       "<IPython.core.display.HTML object>"
      ]
     },
     "metadata": {},
     "output_type": "display_data"
    },
    {
     "data": {
      "text/html": [
       "<div class=\"entities\" style=\"line-height: 2.5; direction: ltr\">The images below with the same underlined color look similar and the mode starts collapsing.</div>"
      ],
      "text/plain": [
       "<IPython.core.display.HTML object>"
      ]
     },
     "metadata": {},
     "output_type": "display_data"
    },
    {
     "data": {
      "text/html": [
       "<div class=\"entities\" style=\"line-height: 2.5; direction: ltr\">Modified from sourceLet’s see how it may occur.</div>"
      ],
      "text/plain": [
       "<IPython.core.display.HTML object>"
      ]
     },
     "metadata": {},
     "output_type": "display_data"
    },
    {
     "data": {
      "text/html": [
       "<div class=\"entities\" style=\"line-height: 2.5; direction: ltr\">The objective of the \n",
       "<mark class=\"entity\" style=\"background: #7aecec; padding: 0.45em 0.6em; margin: 0 0.25em; line-height: 1; border-radius: 0.35em; box-decoration-break: clone; -webkit-box-decoration-break: clone\">\n",
       "    GAN\n",
       "    <span style=\"font-size: 0.8em; font-weight: bold; line-height: 1; border-radius: 0.35em; text-transform: uppercase; vertical-align: middle; margin-left: 0.5rem\">ORG</span>\n",
       "</mark>\n",
       " generator is to create images that can fool the discriminator D the most.</div>"
      ],
      "text/plain": [
       "<IPython.core.display.HTML object>"
      ]
     },
     "metadata": {},
     "output_type": "display_data"
    },
    {
     "data": {
      "text/html": [
       "<div class=\"entities\" style=\"line-height: 2.5; direction: ltr\">But let\n",
       "<mark class=\"entity\" style=\"background: #7aecec; padding: 0.45em 0.6em; margin: 0 0.25em; line-height: 1; border-radius: 0.35em; box-decoration-break: clone; -webkit-box-decoration-break: clone\">\n",
       "    ’s\n",
       "    <span style=\"font-size: 0.8em; font-weight: bold; line-height: 1; border-radius: 0.35em; text-transform: uppercase; vertical-align: middle; margin-left: 0.5rem\">ORG</span>\n",
       "</mark>\n",
       " consider \n",
       "<mark class=\"entity\" style=\"background: #e4e7d2; padding: 0.45em 0.6em; margin: 0 0.25em; line-height: 1; border-radius: 0.35em; box-decoration-break: clone; -webkit-box-decoration-break: clone\">\n",
       "    one\n",
       "    <span style=\"font-size: 0.8em; font-weight: bold; line-height: 1; border-radius: 0.35em; text-transform: uppercase; vertical-align: middle; margin-left: 0.5rem\">CARDINAL</span>\n",
       "</mark>\n",
       " extreme case where \n",
       "<mark class=\"entity\" style=\"background: #7aecec; padding: 0.45em 0.6em; margin: 0 0.25em; line-height: 1; border-radius: 0.35em; box-decoration-break: clone; -webkit-box-decoration-break: clone\">\n",
       "    G\n",
       "    <span style=\"font-size: 0.8em; font-weight: bold; line-height: 1; border-radius: 0.35em; text-transform: uppercase; vertical-align: middle; margin-left: 0.5rem\">ORG</span>\n",
       "</mark>\n",
       " is trained extensively without updates to \n",
       "<mark class=\"entity\" style=\"background: #c887fb; padding: 0.45em 0.6em; margin: 0 0.25em; line-height: 1; border-radius: 0.35em; box-decoration-break: clone; -webkit-box-decoration-break: clone\">\n",
       "    D.\n",
       "    <span style=\"font-size: 0.8em; font-weight: bold; line-height: 1; border-radius: 0.35em; text-transform: uppercase; vertical-align: middle; margin-left: 0.5rem\">NORP</span>\n",
       "</mark>\n",
       "</div>"
      ],
      "text/plain": [
       "<IPython.core.display.HTML object>"
      ]
     },
     "metadata": {},
     "output_type": "display_data"
    },
    {
     "data": {
      "text/html": [
       "<div class=\"entities\" style=\"line-height: 2.5; direction: ltr\">The generated images will converge to find the optimal image x* that fool D the most, the most realistic image from the discriminator perspective.</div>"
      ],
      "text/plain": [
       "<IPython.core.display.HTML object>"
      ]
     },
     "metadata": {},
     "output_type": "display_data"
    },
    {
     "data": {
      "text/html": [
       "<div class=\"entities\" style=\"line-height: 2.5; direction: ltr\">In this extreme, x* will be independent of z.</div>"
      ],
      "text/plain": [
       "<IPython.core.display.HTML object>"
      ]
     },
     "metadata": {},
     "output_type": "display_data"
    },
    {
     "data": {
      "text/html": [
       "<div class=\"entities\" style=\"line-height: 2.5; direction: ltr\">This is bad news.</div>"
      ],
      "text/plain": [
       "<IPython.core.display.HTML object>"
      ]
     },
     "metadata": {},
     "output_type": "display_data"
    },
    {
     "data": {
      "text/html": [
       "<div class=\"entities\" style=\"line-height: 2.5; direction: ltr\">The mode collapses to a single point.</div>"
      ],
      "text/plain": [
       "<IPython.core.display.HTML object>"
      ]
     },
     "metadata": {},
     "output_type": "display_data"
    },
    {
     "data": {
      "text/html": [
       "<div class=\"entities\" style=\"line-height: 2.5; direction: ltr\">The gradient associated with z approaches \n",
       "<mark class=\"entity\" style=\"background: #e4e7d2; padding: 0.45em 0.6em; margin: 0 0.25em; line-height: 1; border-radius: 0.35em; box-decoration-break: clone; -webkit-box-decoration-break: clone\">\n",
       "    zero\n",
       "    <span style=\"font-size: 0.8em; font-weight: bold; line-height: 1; border-radius: 0.35em; text-transform: uppercase; vertical-align: middle; margin-left: 0.5rem\">CARDINAL</span>\n",
       "</mark>\n",
       ".</div>"
      ],
      "text/plain": [
       "<IPython.core.display.HTML object>"
      ]
     },
     "metadata": {},
     "output_type": "display_data"
    },
    {
     "data": {
      "text/html": [
       "<div class=\"entities\" style=\"line-height: 2.5; direction: ltr\">When we restart the training in the discriminator, the most effective way to detect generated images is to detect this single mode.</div>"
      ],
      "text/plain": [
       "<IPython.core.display.HTML object>"
      ]
     },
     "metadata": {},
     "output_type": "display_data"
    },
    {
     "data": {
      "text/html": [
       "<div class=\"entities\" style=\"line-height: 2.5; direction: ltr\">Since the generator desensitizes the impact of z already, the gradient from the discriminator will likely push the single point around for the next most vulnerable mode.</div>"
      ],
      "text/plain": [
       "<IPython.core.display.HTML object>"
      ]
     },
     "metadata": {},
     "output_type": "display_data"
    },
    {
     "data": {
      "text/html": [
       "<div class=\"entities\" style=\"line-height: 2.5; direction: ltr\">This is not hard to find.</div>"
      ],
      "text/plain": [
       "<IPython.core.display.HTML object>"
      ]
     },
     "metadata": {},
     "output_type": "display_data"
    },
    {
     "data": {
      "text/html": [
       "<div class=\"entities\" style=\"line-height: 2.5; direction: ltr\">The generator produces such an imbalance of modes in training that it deteriorates its capability to detect others.</div>"
      ],
      "text/plain": [
       "<IPython.core.display.HTML object>"
      ]
     },
     "metadata": {},
     "output_type": "display_data"
    },
    {
     "data": {
      "text/html": [
       "<div class=\"entities\" style=\"line-height: 2.5; direction: ltr\">Now, both networks are overfitted to exploit the short-term opponent weakness.</div>"
      ],
      "text/plain": [
       "<IPython.core.display.HTML object>"
      ]
     },
     "metadata": {},
     "output_type": "display_data"
    },
    {
     "data": {
      "text/html": [
       "<div class=\"entities\" style=\"line-height: 2.5; direction: ltr\">This turns into to a cat-and-mouse game and the model will not converge.</div>"
      ],
      "text/plain": [
       "<IPython.core.display.HTML object>"
      ]
     },
     "metadata": {},
     "output_type": "display_data"
    },
    {
     "data": {
      "text/html": [
       "<div class=\"entities\" style=\"line-height: 2.5; direction: ltr\">In the diagram below, the \n",
       "<mark class=\"entity\" style=\"background: #feca74; padding: 0.45em 0.6em; margin: 0 0.25em; line-height: 1; border-radius: 0.35em; box-decoration-break: clone; -webkit-box-decoration-break: clone\">\n",
       "    Unroll\n",
       "    <span style=\"font-size: 0.8em; font-weight: bold; line-height: 1; border-radius: 0.35em; text-transform: uppercase; vertical-align: middle; margin-left: 0.5rem\">GPE</span>\n",
       "</mark>\n",
       " \n",
       "<mark class=\"entity\" style=\"background: #7aecec; padding: 0.45em 0.6em; margin: 0 0.25em; line-height: 1; border-radius: 0.35em; box-decoration-break: clone; -webkit-box-decoration-break: clone\">\n",
       "    GAN\n",
       "    <span style=\"font-size: 0.8em; font-weight: bold; line-height: 1; border-radius: 0.35em; text-transform: uppercase; vertical-align: middle; margin-left: 0.5rem\">ORG</span>\n",
       "</mark>\n",
       " manages to produce all \n",
       "<mark class=\"entity\" style=\"background: #e4e7d2; padding: 0.45em 0.6em; margin: 0 0.25em; line-height: 1; border-radius: 0.35em; box-decoration-break: clone; -webkit-box-decoration-break: clone\">\n",
       "    8\n",
       "    <span style=\"font-size: 0.8em; font-weight: bold; line-height: 1; border-radius: 0.35em; text-transform: uppercase; vertical-align: middle; margin-left: 0.5rem\">CARDINAL</span>\n",
       "</mark>\n",
       " expected modes of data.</div>"
      ],
      "text/plain": [
       "<IPython.core.display.HTML object>"
      ]
     },
     "metadata": {},
     "output_type": "display_data"
    },
    {
     "data": {
      "text/html": [
       "<div class=\"entities\" style=\"line-height: 2.5; direction: ltr\">The \n",
       "<mark class=\"entity\" style=\"background: #e4e7d2; padding: 0.45em 0.6em; margin: 0 0.25em; line-height: 1; border-radius: 0.35em; box-decoration-break: clone; -webkit-box-decoration-break: clone\">\n",
       "    second\n",
       "    <span style=\"font-size: 0.8em; font-weight: bold; line-height: 1; border-radius: 0.35em; text-transform: uppercase; vertical-align: middle; margin-left: 0.5rem\">ORDINAL</span>\n",
       "</mark>\n",
       " row shows another \n",
       "<mark class=\"entity\" style=\"background: #7aecec; padding: 0.45em 0.6em; margin: 0 0.25em; line-height: 1; border-radius: 0.35em; box-decoration-break: clone; -webkit-box-decoration-break: clone\">\n",
       "    GAN\n",
       "    <span style=\"font-size: 0.8em; font-weight: bold; line-height: 1; border-radius: 0.35em; text-transform: uppercase; vertical-align: middle; margin-left: 0.5rem\">ORG</span>\n",
       "</mark>\n",
       " which the mode collapses and rotates to another mode when the discriminator catches up.</div>"
      ],
      "text/plain": [
       "<IPython.core.display.HTML object>"
      ]
     },
     "metadata": {},
     "output_type": "display_data"
    },
    {
     "data": {
      "text/html": [
       "<div class=\"entities\" style=\"line-height: 2.5; direction: ltr\">\n",
       "<mark class=\"entity\" style=\"background: #7aecec; padding: 0.45em 0.6em; margin: 0 0.25em; line-height: 1; border-radius: 0.35em; box-decoration-break: clone; -webkit-box-decoration-break: clone\">\n",
       "    SourceDuring\n",
       "    <span style=\"font-size: 0.8em; font-weight: bold; line-height: 1; border-radius: 0.35em; text-transform: uppercase; vertical-align: middle; margin-left: 0.5rem\">ORG</span>\n",
       "</mark>\n",
       " training, the discriminator is constantly updated to detect adversaries.</div>"
      ],
      "text/plain": [
       "<IPython.core.display.HTML object>"
      ]
     },
     "metadata": {},
     "output_type": "display_data"
    },
    {
     "data": {
      "text/html": [
       "<div class=\"entities\" style=\"line-height: 2.5; direction: ltr\">Therefore, the generator is less likely to be overfitted.</div>"
      ],
      "text/plain": [
       "<IPython.core.display.HTML object>"
      ]
     },
     "metadata": {},
     "output_type": "display_data"
    },
    {
     "data": {
      "text/html": [
       "<div class=\"entities\" style=\"line-height: 2.5; direction: ltr\">In practice, our understanding of mode collapse is still limited.</div>"
      ],
      "text/plain": [
       "<IPython.core.display.HTML object>"
      ]
     },
     "metadata": {},
     "output_type": "display_data"
    },
    {
     "data": {
      "text/html": [
       "<div class=\"entities\" style=\"line-height: 2.5; direction: ltr\">Our intuitive explanation above is likely oversimplified.</div>"
      ],
      "text/plain": [
       "<IPython.core.display.HTML object>"
      ]
     },
     "metadata": {},
     "output_type": "display_data"
    },
    {
     "data": {
      "text/html": [
       "<div class=\"entities\" style=\"line-height: 2.5; direction: ltr\">Mitigation methods are developed and verified with empirical experiments.</div>"
      ],
      "text/plain": [
       "<IPython.core.display.HTML object>"
      ]
     },
     "metadata": {},
     "output_type": "display_data"
    },
    {
     "data": {
      "text/html": [
       "<div class=\"entities\" style=\"line-height: 2.5; direction: ltr\">However, \n",
       "<mark class=\"entity\" style=\"background: #7aecec; padding: 0.45em 0.6em; margin: 0 0.25em; line-height: 1; border-radius: 0.35em; box-decoration-break: clone; -webkit-box-decoration-break: clone\">\n",
       "    GAN\n",
       "    <span style=\"font-size: 0.8em; font-weight: bold; line-height: 1; border-radius: 0.35em; text-transform: uppercase; vertical-align: middle; margin-left: 0.5rem\">ORG</span>\n",
       "</mark>\n",
       " training is still a heuristic process.</div>"
      ],
      "text/plain": [
       "<IPython.core.display.HTML object>"
      ]
     },
     "metadata": {},
     "output_type": "display_data"
    },
    {
     "data": {
      "text/html": [
       "<div class=\"entities\" style=\"line-height: 2.5; direction: ltr\">Partial collapse is still common.</div>"
      ],
      "text/plain": [
       "<IPython.core.display.HTML object>"
      ]
     },
     "metadata": {},
     "output_type": "display_data"
    },
    {
     "data": {
      "text/html": [
       "<div class=\"entities\" style=\"line-height: 2.5; direction: ltr\">But mode collapse is not all bad news.</div>"
      ],
      "text/plain": [
       "<IPython.core.display.HTML object>"
      ]
     },
     "metadata": {},
     "output_type": "display_data"
    },
    {
     "data": {
      "text/html": [
       "<div class=\"entities\" style=\"line-height: 2.5; direction: ltr\">In style transfer using \n",
       "<mark class=\"entity\" style=\"background: #7aecec; padding: 0.45em 0.6em; margin: 0 0.25em; line-height: 1; border-radius: 0.35em; box-decoration-break: clone; -webkit-box-decoration-break: clone\">\n",
       "    GAN\n",
       "    <span style=\"font-size: 0.8em; font-weight: bold; line-height: 1; border-radius: 0.35em; text-transform: uppercase; vertical-align: middle; margin-left: 0.5rem\">ORG</span>\n",
       "</mark>\n",
       ", we are happy to convert \n",
       "<mark class=\"entity\" style=\"background: #e4e7d2; padding: 0.45em 0.6em; margin: 0 0.25em; line-height: 1; border-radius: 0.35em; box-decoration-break: clone; -webkit-box-decoration-break: clone\">\n",
       "    one\n",
       "    <span style=\"font-size: 0.8em; font-weight: bold; line-height: 1; border-radius: 0.35em; text-transform: uppercase; vertical-align: middle; margin-left: 0.5rem\">CARDINAL</span>\n",
       "</mark>\n",
       " image to just a good one, rather than finding all variants.</div>"
      ],
      "text/plain": [
       "<IPython.core.display.HTML object>"
      ]
     },
     "metadata": {},
     "output_type": "display_data"
    },
    {
     "data": {
      "text/html": [
       "<div class=\"entities\" style=\"line-height: 2.5; direction: ltr\">Indeed, the specialization in the partial mode collapse sometimes creates higher quality images.</div>"
      ],
      "text/plain": [
       "<IPython.core.display.HTML object>"
      ]
     },
     "metadata": {},
     "output_type": "display_data"
    },
    {
     "data": {
      "text/html": [
       "<div class=\"entities\" style=\"line-height: 2.5; direction: ltr\">But mode collapse remains one of the most important issues to be solved for \n",
       "<mark class=\"entity\" style=\"background: #7aecec; padding: 0.45em 0.6em; margin: 0 0.25em; line-height: 1; border-radius: 0.35em; box-decoration-break: clone; -webkit-box-decoration-break: clone\">\n",
       "    GAN.Hyperparameters &amp;\n",
       "    <span style=\"font-size: 0.8em; font-weight: bold; line-height: 1; border-radius: 0.35em; text-transform: uppercase; vertical-align: middle; margin-left: 0.5rem\">ORG</span>\n",
       "</mark>\n",
       " trainingNo cost functions will work without good hyperparameters and tune them takes time and a lot of patience.</div>"
      ],
      "text/plain": [
       "<IPython.core.display.HTML object>"
      ]
     },
     "metadata": {},
     "output_type": "display_data"
    },
    {
     "data": {
      "text/html": [
       "<div class=\"entities\" style=\"line-height: 2.5; direction: ltr\">New cost functions may introduce hyperparameter(s) that has sensitive performance.</div>"
      ],
      "text/plain": [
       "<IPython.core.display.HTML object>"
      ]
     },
     "metadata": {},
     "output_type": "display_data"
    },
    {
     "data": {
      "text/html": [
       "<div class=\"entities\" style=\"line-height: 2.5; direction: ltr\">Hyperparameter tuning needs patience.</div>"
      ],
      "text/plain": [
       "<IPython.core.display.HTML object>"
      ]
     },
     "metadata": {},
     "output_type": "display_data"
    },
    {
     "data": {
      "text/html": [
       "<div class=\"entities\" style=\"line-height: 2.5; direction: ltr\">No cost functions will work without spending time on the hyperparameter tuning.</div>"
      ],
      "text/plain": [
       "<IPython.core.display.HTML object>"
      ]
     },
     "metadata": {},
     "output_type": "display_data"
    },
    {
     "data": {
      "text/html": [
       "<div class=\"entities\" style=\"line-height: 2.5; direction: ltr\">Balance between the discriminator and generatorThe non-convergence and mode collapse is often explained as an imbalance between the discriminator and the generator.</div>"
      ],
      "text/plain": [
       "<IPython.core.display.HTML object>"
      ]
     },
     "metadata": {},
     "output_type": "display_data"
    },
    {
     "data": {
      "text/html": [
       "<div class=\"entities\" style=\"line-height: 2.5; direction: ltr\">The obvious solution is to balance their training to avoid overfitting.</div>"
      ],
      "text/plain": [
       "<IPython.core.display.HTML object>"
      ]
     },
     "metadata": {},
     "output_type": "display_data"
    },
    {
     "data": {
      "text/html": [
       "<div class=\"entities\" style=\"line-height: 2.5; direction: ltr\">However, very few progress has made but not because of the lack of trying.</div>"
      ],
      "text/plain": [
       "<IPython.core.display.HTML object>"
      ]
     },
     "metadata": {},
     "output_type": "display_data"
    },
    {
     "data": {
      "text/html": [
       "<div class=\"entities\" style=\"line-height: 2.5; direction: ltr\">Some researchers believe that this is not a feasible or a desirable goal since a good discriminator gives good feedback.</div>"
      ],
      "text/plain": [
       "<IPython.core.display.HTML object>"
      ]
     },
     "metadata": {},
     "output_type": "display_data"
    },
    {
     "data": {
      "text/html": [
       "<div class=\"entities\" style=\"line-height: 2.5; direction: ltr\">Some of the attention is therefore shifted for cost functions with non-vanishing gradients instead.</div>"
      ],
      "text/plain": [
       "<IPython.core.display.HTML object>"
      ]
     },
     "metadata": {},
     "output_type": "display_data"
    },
    {
     "data": {
      "text/html": [
       "<div class=\"entities\" style=\"line-height: 2.5; direction: ltr\">Cost v.s. image qualityIn a discriminative model, the loss measures the accuracy of the prediction and we use it to monitor the progress of the training.</div>"
      ],
      "text/plain": [
       "<IPython.core.display.HTML object>"
      ]
     },
     "metadata": {},
     "output_type": "display_data"
    },
    {
     "data": {
      "text/html": [
       "<div class=\"entities\" style=\"line-height: 2.5; direction: ltr\">However, the loss in GAN measures how well we are doing compared with our opponent.</div>"
      ],
      "text/plain": [
       "<IPython.core.display.HTML object>"
      ]
     },
     "metadata": {},
     "output_type": "display_data"
    },
    {
     "data": {
      "text/html": [
       "<div class=\"entities\" style=\"line-height: 2.5; direction: ltr\">Often, the generator cost increases but the image quality is actually improving.</div>"
      ],
      "text/plain": [
       "<IPython.core.display.HTML object>"
      ]
     },
     "metadata": {},
     "output_type": "display_data"
    },
    {
     "data": {
      "text/html": [
       "<div class=\"entities\" style=\"line-height: 2.5; direction: ltr\">We fall back to examine the generated images manually to verify the progress.</div>"
      ],
      "text/plain": [
       "<IPython.core.display.HTML object>"
      ]
     },
     "metadata": {},
     "output_type": "display_data"
    },
    {
     "data": {
      "text/html": [
       "<div class=\"entities\" style=\"line-height: 2.5; direction: ltr\">This makes model comparison harder which lead to difficulties in picking the best model in a single run.</div>"
      ],
      "text/plain": [
       "<IPython.core.display.HTML object>"
      ]
     },
     "metadata": {},
     "output_type": "display_data"
    },
    {
     "data": {
      "text/html": [
       "<div class=\"entities\" style=\"line-height: 2.5; direction: ltr\">It also complicates the tuning process.</div>"
      ],
      "text/plain": [
       "<IPython.core.display.HTML object>"
      ]
     },
     "metadata": {},
     "output_type": "display_data"
    },
    {
     "data": {
      "text/html": [
       "<div class=\"entities\" style=\"line-height: 2.5; direction: ltr\">Further readingNow you hear the problems and you may want to hear the solutions.</div>"
      ],
      "text/plain": [
       "<IPython.core.display.HTML object>"
      ]
     },
     "metadata": {},
     "output_type": "display_data"
    },
    {
     "data": {
      "text/html": [
       "<div class=\"entities\" style=\"line-height: 2.5; direction: ltr\">We provide \n",
       "<mark class=\"entity\" style=\"background: #e4e7d2; padding: 0.45em 0.6em; margin: 0 0.25em; line-height: 1; border-radius: 0.35em; box-decoration-break: clone; -webkit-box-decoration-break: clone\">\n",
       "    two\n",
       "    <span style=\"font-size: 0.8em; font-weight: bold; line-height: 1; border-radius: 0.35em; text-transform: uppercase; vertical-align: middle; margin-left: 0.5rem\">CARDINAL</span>\n",
       "</mark>\n",
       " different articles.</div>"
      ],
      "text/plain": [
       "<IPython.core.display.HTML object>"
      ]
     },
     "metadata": {},
     "output_type": "display_data"
    },
    {
     "data": {
      "text/html": [
       "<div class=\"entities\" style=\"line-height: 2.5; direction: ltr\">The \n",
       "<mark class=\"entity\" style=\"background: #e4e7d2; padding: 0.45em 0.6em; margin: 0 0.25em; line-height: 1; border-radius: 0.35em; box-decoration-break: clone; -webkit-box-decoration-break: clone\">\n",
       "    first\n",
       "    <span style=\"font-size: 0.8em; font-weight: bold; line-height: 1; border-radius: 0.35em; text-transform: uppercase; vertical-align: middle; margin-left: 0.5rem\">ORDINAL</span>\n",
       "</mark>\n",
       " one provides key summaries on the solutions.</div>"
      ],
      "text/plain": [
       "<IPython.core.display.HTML object>"
      ]
     },
     "metadata": {},
     "output_type": "display_data"
    },
    {
     "data": {
      "text/html": [
       "<div class=\"entities\" style=\"line-height: 2.5; direction: ltr\">GAN —</div>"
      ],
      "text/plain": [
       "<IPython.core.display.HTML object>"
      ]
     },
     "metadata": {},
     "output_type": "display_data"
    },
    {
     "data": {
      "text/html": [
       "<div class=\"entities\" style=\"line-height: 2.5; direction: ltr\">A comprehensive review into the gangsters of GANs (Part \n",
       "<mark class=\"entity\" style=\"background: #e4e7d2; padding: 0.45em 0.6em; margin: 0 0.25em; line-height: 1; border-radius: 0.35em; box-decoration-break: clone; -webkit-box-decoration-break: clone\">\n",
       "    2)This\n",
       "    <span style=\"font-size: 0.8em; font-weight: bold; line-height: 1; border-radius: 0.35em; text-transform: uppercase; vertical-align: middle; margin-left: 0.5rem\">CARDINAL</span>\n",
       "</mark>\n",
       " article studies the motivation and the direction of the \n",
       "<mark class=\"entity\" style=\"background: #7aecec; padding: 0.45em 0.6em; margin: 0 0.25em; line-height: 1; border-radius: 0.35em; box-decoration-break: clone; -webkit-box-decoration-break: clone\">\n",
       "    GAN\n",
       "    <span style=\"font-size: 0.8em; font-weight: bold; line-height: 1; border-radius: 0.35em; text-transform: uppercase; vertical-align: middle; margin-left: 0.5rem\">ORG</span>\n",
       "</mark>\n",
       " research in improving GANs.</div>"
      ],
      "text/plain": [
       "<IPython.core.display.HTML object>"
      ]
     },
     "metadata": {},
     "output_type": "display_data"
    },
    {
     "data": {
      "text/html": [
       "<div class=\"entities\" style=\"line-height: 2.5; direction: ltr\">By reviewing them in a…medium.comIf you want to be much deeper, the \n",
       "<mark class=\"entity\" style=\"background: #e4e7d2; padding: 0.45em 0.6em; margin: 0 0.25em; line-height: 1; border-radius: 0.35em; box-decoration-break: clone; -webkit-box-decoration-break: clone\">\n",
       "    second\n",
       "    <span style=\"font-size: 0.8em; font-weight: bold; line-height: 1; border-radius: 0.35em; text-transform: uppercase; vertical-align: middle; margin-left: 0.5rem\">ORDINAL</span>\n",
       "</mark>\n",
       " one will have more in-depth discussion:</div>"
      ],
      "text/plain": [
       "<IPython.core.display.HTML object>"
      ]
     },
     "metadata": {},
     "output_type": "display_data"
    },
    {
     "data": {
      "text/html": [
       "<div class=\"entities\" style=\"line-height: 2.5; direction: ltr\">GAN — Ways to improve \n",
       "<mark class=\"entity\" style=\"background: #7aecec; padding: 0.45em 0.6em; margin: 0 0.25em; line-height: 1; border-radius: 0.35em; box-decoration-break: clone; -webkit-box-decoration-break: clone\">\n",
       "    GAN\n",
       "    <span style=\"font-size: 0.8em; font-weight: bold; line-height: 1; border-radius: 0.35em; text-transform: uppercase; vertical-align: middle; margin-left: 0.5rem\">ORG</span>\n",
       "</mark>\n",
       " performanceGAN models can suffer badly in the following areas comparing to other deep networks.medium.comIf you want to study the mathematical model further on the gradient and stability problem, the following article will elaborate on it.</div>"
      ],
      "text/plain": [
       "<IPython.core.display.HTML object>"
      ]
     },
     "metadata": {},
     "output_type": "display_data"
    },
    {
     "data": {
      "text/html": [
       "<div class=\"entities\" style=\"line-height: 2.5; direction: ltr\">But be warned, the equations may look overwhelming.</div>"
      ],
      "text/plain": [
       "<IPython.core.display.HTML object>"
      ]
     },
     "metadata": {},
     "output_type": "display_data"
    },
    {
     "data": {
      "text/html": [
       "<div class=\"entities\" style=\"line-height: 2.5; direction: ltr\">However, if you are not afraid of equations, it gives nice reasoning on some of their claims.</div>"
      ],
      "text/plain": [
       "<IPython.core.display.HTML object>"
      ]
     },
     "metadata": {},
     "output_type": "display_data"
    },
    {
     "data": {
      "text/html": [
       "<div class=\"entities\" style=\"line-height: 2.5; direction: ltr\">GAN —</div>"
      ],
      "text/plain": [
       "<IPython.core.display.HTML object>"
      ]
     },
     "metadata": {},
     "output_type": "display_data"
    },
    {
     "data": {
      "text/html": [
       "<div class=\"entities\" style=\"line-height: 2.5; direction: ltr\">What is wrong with the \n",
       "<mark class=\"entity\" style=\"background: #7aecec; padding: 0.45em 0.6em; margin: 0 0.25em; line-height: 1; border-radius: 0.35em; box-decoration-break: clone; -webkit-box-decoration-break: clone\">\n",
       "    GAN\n",
       "    <span style=\"font-size: 0.8em; font-weight: bold; line-height: 1; border-radius: 0.35em; text-transform: uppercase; vertical-align: middle; margin-left: 0.5rem\">ORG</span>\n",
       "</mark>\n",
       " cost function?We work hard to produce mathematical models for deep learning.</div>"
      ],
      "text/plain": [
       "<IPython.core.display.HTML object>"
      ]
     },
     "metadata": {},
     "output_type": "display_data"
    },
    {
     "data": {
      "text/html": [
       "<div class=\"entities\" style=\"line-height: 2.5; direction: ltr\">But often, we are not successful and fall back to the…medium.comReferenceTowards</div>"
      ],
      "text/plain": [
       "<IPython.core.display.HTML object>"
      ]
     },
     "metadata": {},
     "output_type": "display_data"
    },
    {
     "data": {
      "text/html": [
       "<div class=\"entities\" style=\"line-height: 2.5; direction: ltr\">principled methods for training Generative Adversarial NetworksImproved techniques for training GANsNIPS \n",
       "<mark class=\"entity\" style=\"background: #e4e7d2; padding: 0.45em 0.6em; margin: 0 0.25em; line-height: 1; border-radius: 0.35em; box-decoration-break: clone; -webkit-box-decoration-break: clone\">\n",
       "    2016\n",
       "    <span style=\"font-size: 0.8em; font-weight: bold; line-height: 1; border-radius: 0.35em; text-transform: uppercase; vertical-align: middle; margin-left: 0.5rem\">CARDINAL</span>\n",
       "</mark>\n",
       " Tutorial:</div>"
      ],
      "text/plain": [
       "<IPython.core.display.HTML object>"
      ]
     },
     "metadata": {},
     "output_type": "display_data"
    },
    {
     "data": {
      "text/html": [
       "<div class=\"entities\" style=\"line-height: 2.5; direction: ltr\">Generative Adversarial NetworksGenerative Adversarial NetworksAre GANs created equal?</div>"
      ],
      "text/plain": [
       "<IPython.core.display.HTML object>"
      ]
     },
     "metadata": {},
     "output_type": "display_data"
    },
    {
     "data": {
      "text/html": [
       "<div class=\"entities\" style=\"line-height: 2.5; direction: ltr\">A large-scale study2.8</div>"
      ],
      "text/plain": [
       "<IPython.core.display.HTML object>"
      ]
     },
     "metadata": {},
     "output_type": "display_data"
    },
    {
     "data": {
      "text/html": [
       "<div class=\"entities\" style=\"line-height: 2.5; direction: ltr\">\n",
       "<mark class=\"entity\" style=\"background: #7aecec; padding: 0.45em 0.6em; margin: 0 0.25em; line-height: 1; border-radius: 0.35em; box-decoration-break: clone; -webkit-box-decoration-break: clone\">\n",
       "    K Machine\n",
       "    <span style=\"font-size: 0.8em; font-weight: bold; line-height: 1; border-radius: 0.35em; text-transform: uppercase; vertical-align: middle; margin-left: 0.5rem\">ORG</span>\n",
       "</mark>\n",
       " LearningDeep LearningData ScienceComputer VisionArtificial Intelligence2.8\n",
       "<mark class=\"entity\" style=\"background: #7aecec; padding: 0.45em 0.6em; margin: 0 0.25em; line-height: 1; border-radius: 0.35em; box-decoration-break: clone; -webkit-box-decoration-break: clone\">\n",
       "    K clapsWritten\n",
       "    <span style=\"font-size: 0.8em; font-weight: bold; line-height: 1; border-radius: 0.35em; text-transform: uppercase; vertical-align: middle; margin-left: 0.5rem\">ORG</span>\n",
       "</mark>\n",
       "</div>"
      ],
      "text/plain": [
       "<IPython.core.display.HTML object>"
      ]
     },
     "metadata": {},
     "output_type": "display_data"
    },
    {
     "data": {
      "text/html": [
       "<div class=\"entities\" style=\"line-height: 2.5; direction: ltr\">byJonathan</div>"
      ],
      "text/plain": [
       "<IPython.core.display.HTML object>"
      ]
     },
     "metadata": {},
     "output_type": "display_data"
    },
    {
     "data": {
      "text/html": [
       "<div class=\"entities\" style=\"line-height: 2.5; direction: ltr\">HuiFollowDeep LearningFollowSee responses (11)Discover MediumWelcome to a place where words matter.</div>"
      ],
      "text/plain": [
       "<IPython.core.display.HTML object>"
      ]
     },
     "metadata": {},
     "output_type": "display_data"
    },
    {
     "data": {
      "text/html": [
       "<div class=\"entities\" style=\"line-height: 2.5; direction: ltr\">On Medium, smart voices and original ideas take center stage - with no ads in sight.</div>"
      ],
      "text/plain": [
       "<IPython.core.display.HTML object>"
      ]
     },
     "metadata": {},
     "output_type": "display_data"
    },
    {
     "data": {
      "text/html": [
       "<div class=\"entities\" style=\"line-height: 2.5; direction: ltr\">\n",
       "<mark class=\"entity\" style=\"background: #7aecec; padding: 0.45em 0.6em; margin: 0 0.25em; line-height: 1; border-radius: 0.35em; box-decoration-break: clone; -webkit-box-decoration-break: clone\">\n",
       "    WatchMake Medium\n",
       "    <span style=\"font-size: 0.8em; font-weight: bold; line-height: 1; border-radius: 0.35em; text-transform: uppercase; vertical-align: middle; margin-left: 0.5rem\">ORG</span>\n",
       "</mark>\n",
       " yoursFollow all the topics you care about, and we’ll deliver the best stories for you to your homepage and inbox.</div>"
      ],
      "text/plain": [
       "<IPython.core.display.HTML object>"
      ]
     },
     "metadata": {},
     "output_type": "display_data"
    },
    {
     "data": {
      "text/html": [
       "<div class=\"entities\" style=\"line-height: 2.5; direction: ltr\">\n",
       "<mark class=\"entity\" style=\"background: #7aecec; padding: 0.45em 0.6em; margin: 0 0.25em; line-height: 1; border-radius: 0.35em; box-decoration-break: clone; -webkit-box-decoration-break: clone\">\n",
       "    ExploreBecome\n",
       "    <span style=\"font-size: 0.8em; font-weight: bold; line-height: 1; border-radius: 0.35em; text-transform: uppercase; vertical-align: middle; margin-left: 0.5rem\">ORG</span>\n",
       "</mark>\n",
       " a \n",
       "<mark class=\"entity\" style=\"background: #7aecec; padding: 0.45em 0.6em; margin: 0 0.25em; line-height: 1; border-radius: 0.35em; box-decoration-break: clone; -webkit-box-decoration-break: clone\">\n",
       "    memberGet\n",
       "    <span style=\"font-size: 0.8em; font-weight: bold; line-height: 1; border-radius: 0.35em; text-transform: uppercase; vertical-align: middle; margin-left: 0.5rem\">ORG</span>\n",
       "</mark>\n",
       " unlimited access to the best stories on \n",
       "<mark class=\"entity\" style=\"background: #feca74; padding: 0.45em 0.6em; margin: 0 0.25em; line-height: 1; border-radius: 0.35em; box-decoration-break: clone; -webkit-box-decoration-break: clone\">\n",
       "    Medium\n",
       "    <span style=\"font-size: 0.8em; font-weight: bold; line-height: 1; border-radius: 0.35em; text-transform: uppercase; vertical-align: middle; margin-left: 0.5rem\">GPE</span>\n",
       "</mark>\n",
       " — and support writers while you’re at it.</div>"
      ],
      "text/plain": [
       "<IPython.core.display.HTML object>"
      ]
     },
     "metadata": {},
     "output_type": "display_data"
    },
    {
     "data": {
      "text/html": [
       "<div class=\"entities\" style=\"line-height: 2.5; direction: ltr\">Just $5/month.</div>"
      ],
      "text/plain": [
       "<IPython.core.display.HTML object>"
      ]
     },
     "metadata": {},
     "output_type": "display_data"
    },
    {
     "data": {
      "text/html": [
       "<div class=\"entities\" style=\"line-height: 2.5; direction: ltr\">UpgradeAboutHelpLegal</div>"
      ],
      "text/plain": [
       "<IPython.core.display.HTML object>"
      ]
     },
     "metadata": {},
     "output_type": "display_data"
    }
   ],
   "source": [
    "get_information(\"https://medium.com/@jonathan_hui/gan-why-it-is-so-hard-to-train-generative-advisory-networks-819a86b3750b\")"
   ]
  },
  {
   "cell_type": "code",
   "execution_count": 8,
   "metadata": {},
   "outputs": [
    {
     "name": "stdout",
     "output_type": "stream",
     "text": [
      "Entities : \n",
      " [('Tippasandra', 'GPE')]\n"
     ]
    },
    {
     "data": {
      "text/plain": [
       "['household cleaning items',\n",
       " 'grocery items',\n",
       " 'popular supermarket',\n",
       " 'kitchen appliances',\n",
       " 'busy street',\n",
       " 'adjoining streets',\n",
       " 'parking available',\n",
       " 'tippasandra',\n",
       " 'probably',\n",
       " 'place',\n",
       " 'much',\n",
       " 'look',\n",
       " 'helpful',\n",
       " 'cookware']"
      ]
     },
     "execution_count": 8,
     "metadata": {},
     "output_type": "execute_result"
    }
   ],
   "source": [
    "preprocess(\"This is probably the most popular supermarket in Tippasandra. One can get most of the grocery items,  household cleaning items,  cookware, kitchen appliances and much more.Prices are competitive and the staff is helpful.There is no parking available at this place and it is located on a busy street so you might have to look for parking on adjoining streets.\")"
   ]
  },
  {
   "cell_type": "code",
   "execution_count": 9,
   "metadata": {},
   "outputs": [
    {
     "name": "stdout",
     "output_type": "stream",
     "text": [
      "Requirement already satisfied: google in /home/cloud/anaconda/lib/python3.6/site-packages (2.0.2)\n",
      "Requirement already satisfied: beautifulsoup4 in /home/cloud/anaconda/lib/python3.6/site-packages (from google) (4.6.0)\n",
      "Requirement already satisfied: beautifulsoup4 in /home/cloud/anaconda/lib/python3.6/site-packages (4.6.0)\n"
     ]
    }
   ],
   "source": [
    "!pip3 install google\n",
    "!pip3 install beautifulsoup4"
   ]
  },
  {
   "cell_type": "code",
   "execution_count": 10,
   "metadata": {
    "collapsed": true
   },
   "outputs": [],
   "source": [
    "def scrape_reviews(query):\n",
    "    try:\n",
    "        from googlesearch import search\n",
    "    except ImportError:\n",
    "        print(\"No module named 'google'\")\n",
    "    formulated_query=\"\"\n",
    "    for item in query.split(\" \"):\n",
    "        if item==query.split(\" \")[0]:\n",
    "            formulated_query=item\n",
    "        else:\n",
    "            formulated_query=formulated_query+\"+\"+item\n",
    "    formulated_query = formulated_query+\"+google+reviews\"\n",
    "#     print(formulated_query)\n",
    "#     tld=\"com/search?q=\"+query.split(\" \")[0]+\"+\"+query.split(\" \")[1]+\"+google+reviews\"\n",
    "    for j in search(formulated_query, tld=\"com\", num=10, pause=1, stop=1):\n",
    "        print(\"Link : \",str(j))\n",
    "        new_data=information_from_article(str(j))\n",
    "        new_data.strip();\n",
    "        preprocess(new_data)"
   ]
  },
  {
   "cell_type": "code",
   "execution_count": 11,
   "metadata": {},
   "outputs": [
    {
     "name": "stdout",
     "output_type": "stream",
     "text": [
      "Link :  https://www.yelp.com/biz/leon-grill-burritos-and-margaritas-maineville-2\n",
      "Entities : \n",
      " [('Yelp Reviews', 'PERSON'), ('Leon Grill Burritos', 'ORG'), ('35', 'CARDINAL'), ('Photos - (New', 'ORG'), ('22', 'CARDINAL'), ('3', 'CARDINAL'), ('Maineville', 'LOC'), ('Search Form                                                                                                     ', 'ORG'), ('Navigation                                                                                                     ', 'ORG'), ('Page Content', 'ORG'), ('First', 'ORDINAL'), ('Current Location', 'ORG'), ('Allow', 'PERSON'), ('Grant Permissions', 'PERSON'), ('Chrome', 'WORK_OF_ART'), ('Secure', 'PRODUCT'), ('Location', 'ORG'), ('Ask', 'PERSON'), ('Allow', 'PERSON'), ('Yelp', 'PERSON'), ('Google', 'ORG'), ('Opera', 'PRODUCT'), ('Yelp', 'PERSON'), ('Opera', 'ORG'), ('Click Safari', 'PERSON'), ('the Menu Bar', 'FAC'), ('Click', 'PERSON'), ('Prompt', 'PERSON'), ('Prompt', 'PERSON'), ('one', 'CARDINAL'), ('MacOS', 'PERSON'), ('Location Services', 'ORG'), ('Location Services for Safari', 'ORG'), ('Privacy', 'ORG'), ('Current Location', 'ORG'), ('Privacy', 'ORG'), ('Click Manage Website Data', 'ORG'), ('Settings', 'PERSON'), ('Yelp', 'PERSON'), ('Safari', 'PERSON'), ('Firefox', 'PERSON'), ('Blocked', 'PERSON'), ('Blocked Temporarily', 'PERSON'), ('Access Your Location', 'WORK_OF_ART'), ('Yelp', 'PERSON'), ('Firefox', 'PERSON'), ('Uncheck', 'PERSON'), ('Never', 'PRODUCT'), ('Clear Sites', 'ORG'), ('Yelp', 'PERSON'), ('three', 'CARDINAL'), ('Settings', 'PERSON'), ('Click Choose', 'PERSON'), ('Clear', 'ORG'), ('Click Show', 'PERSON'), ('Click Clear', 'PERSON'), ('Yelp', 'PERSON'), ('HTML5 Geolocation', 'ORG'), ('ServicesMoreWrite', 'NORP'), ('ReviewFor', 'ORG'), ('Businesses', 'PRODUCT'), ('2912', 'DATE'), ('22', 'CARDINAL'), ('3Maineville', 'FAC'), ('OH 45039', 'DATE'), ('513', 'CARDINAL'), ('583-5666', 'CARDINAL'), ('Leon', 'ORG'), ('Classic Mexican', 'NORP'), ('years', 'DATE'), ('MEXICAN', 'WORK_OF_ART'), ('EVER', 'ORG'), ('last Friday', 'DATE'), ('Mexican', 'NORP'), ('all weekend', 'DATE'), ('Leon Grill Burritos', 'PERSON'), ('Margaritas', 'PERSON'), ('Learn', 'PERSON'), ('5', 'CARDINAL'), ('1', 'CARDINAL'), ('Mexican', 'NORP'), ('Opens', 'PERSON'), ('Swap', 'NORP'), ('Leon Grill Burritos', 'PERSON'), ('Margaritas', 'GPE'), ('2912', 'DATE'), ('22', 'CARDINAL'), ('3', 'CARDINAL'), ('Maineville', 'LOC'), ('2912', 'DATE'), ('22', 'CARDINAL'), ('3Maineville', 'FAC'), ('513', 'CARDINAL'), ('583-5666', 'CARDINAL'), ('Leon Grill Burritos', 'ORG'), ('Margaritas - Maineville, OH', 'ORG'), ('United States', 'GPE'), ('John M.                                                                                                                                                                                                                                                                                                                                                                                                           ', 'PERSON'), ('35', 'CARDINAL'), ('Yelp', 'PERSON'), ('Leon Grill Burritos', 'PERSON'), ('Margaritas', 'GPE'), ('Leon Grill Burritos', 'ORG'), ('Margaritas                                                                                                                                                                                   ', 'ORG'), ('Yelp Sort', 'PERSON'), ('Yelp Sort                                                                                                                      ', 'PERSON'), ('1', 'CARDINAL'), ('2', 'CARDINAL'), ('Meh', 'PERSON'), ('3', 'CARDINAL'), ('4', 'DATE'), ('5', 'CARDINAL'), ('Leon Grill Burritos', 'ORG'), ('Margaritas', 'GPE'), ('today', 'DATE'), ('Chris D.                               ', 'PERSON'), ('Lebanon', 'GPE'), ('5', 'CARDINAL'), ('1', 'CARDINAL'), ('Chris D.                                                                                                                          Stop', 'PERSON'), ('Chris D.                                                                                                                                                                 ', 'PERSON'), ('First', 'ORDINAL'), ('Review', 'ORG'), ('Leon', 'ORG'), ('1', 'CARDINAL'), ('1', 'CARDINAL'), ('Yelpers', 'ORG'), ('Rachel P.                               ', 'PERSON'), ('Cincinnati', 'GPE'), ('0', 'CARDINAL'), ('2', 'CARDINAL'), ('Rachel P.                                                                                                                          Stop', 'PERSON'), ('Rachel P.                                                                                                                                                                 ', 'PERSON'), ('7/31/2019', 'DATE'), ('years', 'DATE'), ('Yelpers', 'ORG'), ('Casey H.', 'PERSON'), ('Ashland', 'GPE'), ('0', 'CARDINAL'), ('6', 'CARDINAL'), ('4', 'CARDINAL'), ('Casey H.                                                                                                                          Stop', 'PERSON'), ('Casey H.                                                                                                                                                                 ', 'PERSON'), ('7/28/2019', 'DATE'), ('WORST', 'ORG'), ('MEXICAN', 'WORK_OF_ART'), ('EVER', 'ORG'), ('Kelly S.', 'PERSON'), ('1', 'CARDINAL'), ('Cool                                                                         Others', 'ORG'), ('Yelpers', 'ORG'), ('Christine W.                               ', 'PERSON'), ('Maineville', 'PERSON'), ('0', 'CARDINAL'), ('4', 'CARDINAL'), ('Christine W.                                                                                                                          Stop', 'PERSON'), ('Christine W.                                                                                                                                                                 ', 'PERSON'), ('7/15/2019', 'DATE'), ('last Friday', 'DATE'), ('Mexican', 'NORP'), ('all weekend', 'DATE'), ('Sarah Toung Y.', 'PERSON'), ('3', 'CARDINAL'), ('2', 'CARDINAL'), ('3', 'CARDINAL'), ('Cool                                                                         ', 'ORG'), ('Yelpers', 'ORG'), ('1', 'CARDINAL'), ('1', 'CARDINAL'), ('3', 'CARDINAL'), ('Mexican', 'NORP'), ('2019', 'DATE'), ('Started', 'PERSON'), ('2019', 'DATE'), ('Leon', 'ORG'), ('Leon', 'ORG'), ('Leon S.', 'PERSON'), ('Leon', 'ORG'), ('Cholula', 'PERSON'), ('Leon', 'ORG'), ('Grill Burritos', 'ORG'), ('Margaritas                                                                                                           Report', 'ORG'), ('Today', 'DATE'), ('12:00 pm - 10:30 pm', 'TIME'), ('Opens', 'PERSON'), ('11:00 am - 9:00 pm', 'TIME'), ('Tue', 'PERSON'), ('11:00 am - 9:00 pm', 'TIME'), ('11:00 am - 9:00 pm', 'TIME'), ('11:00 am - 9:00 pm', 'TIME'), ('11:00 am - 10:30 pm', 'TIME'), ('12:00 pm - 10:30', 'TIME'), ('Sun', 'PERSON'), ('12:00 pm - 9:00 pm', 'TIME'), ('Yes                                                                                                                                             Accepts Credit Cards                                                                                           ', 'ORG'), ('Chris D.                                      ', 'PERSON'), ('First', 'ORDINAL'), ('$', 'MONEY'), ('Mexican', 'ORG'), ('El Picante Mexican', 'ORG'), ('$', 'MONEY'), ('Mexican', 'NORP'), ('Mexican', 'NORP'), ('$', 'MONEY'), ('Mexican', 'NORP'), ('American (New)', 'ORG'), ('American', 'NORP'), ('$', 'MONEY'), ('Japanese', 'NORP'), ('Mexican', 'NORP'), ('53', 'CARDINAL'), ('Mexican', 'NORP'), ('Mexican', 'NORP'), ('35', 'CARDINAL'), ('$', 'CARDINAL'), ('$', 'MONEY'), ('Mexican', 'ORG'), ('El Picante                                                                                                                     67', 'ORG'), ('Mexican', 'NORP'), ('38', 'CARDINAL'), ('$', 'MONEY'), ('Mexican', 'NORP'), ('Mexican', 'NORP'), ('Leon Grill Burritos', 'ORG'), ('Margaritas                                                                                                                   ', 'ORG'), ('Maineville                                                                                                                    ', 'GPE'), ('Maineville                                                                                                  ', 'GPE'), ('Maineville                                                                                                         Things', 'ORG'), ('Maineville                                                                                                                                ', 'ORG'), ('Leon Grill Burritos', 'PERSON'), ('Margaritas', 'GPE'), ('Mexican Food Maineville', 'ORG'), ('Margaritas', 'GPE'), ('Mexican', 'NORP'), ('Maineville', 'PERSON'), ('Text', 'PERSON'), ('Yelp', 'PERSON'), ('Discover', 'PERSON'), ('RSS', 'ORG'), ('Yelp for Business Owners', 'ORG'), ('Yelp', 'PERSON'), ('English', 'LANGUAGE'), ('Malaysia', 'GPE'), ('Malaysia', 'GPE'), ('Čeština', 'PERSON'), ('Česká', 'NORP'), ('Dansk', 'PERSON'), ('Danmark', 'PERSON'), ('Schweiz', 'PERSON'), ('Österreich', 'GPE'), ('Australia', 'GPE'), ('Belgium', 'GPE'), ('Canada', 'GPE'), ('Hong Kong', 'GPE'), ('Malaysia', 'GPE'), ('New Zealand', 'GPE'), ('Philippines', 'GPE'), ('Singapore', 'GPE'), ('Switzerland', 'GPE'), ('United Kingdom', 'GPE'), ('United States', 'GPE'), ('Español', 'PERSON'), ('Argentina', 'GPE'), ('Chile', 'GPE'), ('Español', 'PERSON'), ('España', 'PERSON'), ('Español', 'PERSON'), ('México', 'GPE'), ('Filipino', 'LANGUAGE'), ('Pilipinas', 'GPE'), ('Français', 'PERSON'), ('Belgique', 'NORP'), ('Canada', 'GPE'), ('France', 'GPE'), ('Français', 'PERSON'), ('Suisse', 'PERSON'), ('Svizzera', 'ORG'), ('Nederlands', 'PERSON'), ('België', 'ORG'), ('Nederlands', 'PERSON'), ('Nederland', 'GPE'), ('Norsk', 'PERSON'), ('Norge', 'PERSON'), ('Polski', 'PERSON'), ('Brasil', 'PERSON'), ('Portugal', 'GPE'), ('Suomi', 'PERSON'), ('Suomi', 'ORG'), ('Finland', 'GPE'), ('Türkçe', 'PERSON'), ('Türkiye', 'GPE'), ('United States                                                                                                                                                                                                                                    ', 'ORG'), ('Argentina', 'GPE'), ('Australia', 'GPE'), ('Austria                                                                                                                                                                                     ', 'PERSON'), ('Belgium', 'GPE'), ('Brazil', 'GPE'), ('Canada', 'GPE'), ('Czech', 'NORP'), ('Finland', 'GPE'), ('France', 'GPE'), ('Germany', 'GPE'), ('Hong Kong', 'GPE'), ('Italy', 'GPE'), ('Japan', 'GPE'), ('Malaysia', 'GPE'), ('Mexico', 'GPE'), ('New Zealand', 'GPE'), ('Norway', 'GPE'), ('Philippines', 'GPE'), ('Poland', 'GPE'), ('Singapore', 'GPE'), ('Spain', 'GPE'), ('Sweden', 'GPE'), ('Switzerland', 'GPE'), ('Taiwan', 'GPE'), ('Netherlands', 'GPE'), ('Turkey', 'GPE'), ('United Kingdom', 'GPE'), ('United States', 'GPE'), ('Atlanta', 'GPE'), ('Austin', 'GPE'), ('Boston', 'GPE'), ('Chicago', 'GPE'), ('Dallas', 'GPE'), ('Denver', 'GPE'), ('Detroit', 'GPE'), ('Honolulu', 'GPE'), ('Houston', 'GPE'), ('Los Angeles', 'GPE'), ('Miami', 'GPE'), ('Minneapolis', 'GPE'), ('New York', 'GPE'), ('Philadelphia', 'GPE'), ('Portland', 'GPE'), ('Sacramento', 'GPE'), ('San Diego', 'GPE'), ('San Francisco', 'GPE'), ('San Jose', 'GPE'), ('Seattle', 'GPE'), ('Washington', 'GPE'), ('DC', 'GPE'), ('Yelp', 'PERSON'), ('Yelp', 'PERSON')]\n"
     ]
    }
   ],
   "source": [
    "scrape_reviews(\"leon grill\")"
   ]
  },
  {
   "cell_type": "code",
   "execution_count": 25,
   "metadata": {
    "collapsed": true
   },
   "outputs": [],
   "source": [
    "def form_phrases_for_wordnet(filename):\n",
    "    file=open(filename,\"r\")\n",
    "    review_phrases= []\n",
    "    store=\"\"\n",
    "    for sent in file.readlines():\n",
    "        if \"store = \" in sent:\n",
    "            print(\"Store : \",sent[8:])\n",
    "            store=sent[8:]\n",
    "#             print(\"Reviews : \")\n",
    "        else:\n",
    "            review_phrases.append(preprocess(sent))\n",
    "    return review_phrases,store"
   ]
  },
  {
   "cell_type": "code",
   "execution_count": 27,
   "metadata": {},
   "outputs": [
    {
     "name": "stdout",
     "output_type": "stream",
     "text": [
      "Store :  noble super bazar\n",
      "\n",
      "[[], ['ok ok supermarket', 'friendly'], ['good spices collection including', 'west india'], ['expired food items', 'old stock', 'good variety', 'lot', 'buying'], ['even home delivery', 'branded food items', 'food coupons', 'really helpful', 'product range', 'one stop', 'credit card', 'also accepted', 'people', 'huge', 'available'], ['help big time', 'super store', 'grocery purchase', 'dark inside', 'renovated'], ['staff seem', 'online booking', 'good experience', 'dunzo app', 'store', 'introduction', 'better'], ['online shopping', 'good place', 'direct'], ['household cleaning items', 'grocery items', 'popular supermarket', 'kitchen appliances', 'probably', 'much', 'cookware'], ['prices', 'competitive'], ['busy street', 'adjoining streets', 'parking available', 'place', 'look'], ['main road easily accessible', 'located', 'almost'], ['good place', 'day shopping'], ['good supermarket', 'decent selection'], ['variou items display signs', 'local provision stores', 'super bazar', 'properly stored', 'mrp compared', 'notice', 'however'], ['wide varieties', 'good place', 'friendly staff', 'items'], ['retail chains', 'great range', 'improved', 'better'], ['farmveda natural dry instant mixes', 'multi millet dosa', 'adai dosa', 'rava idli', 'ragi idli', 'lemon rasam', 'chutney podi', 'poha'], ['expired products ..!', 'costly ..!!!'], ['super market', 'polite staff', 'needed stuff'], ['good full fledged super store', 'like seal clips', 'good catalogue', 'stores around', 'essential products', 'lacks']]\n",
      "[[], ['ok ok supermarket', 'friendly'], ['good spices collection including', 'west india'], ['expired food items', 'old stock', 'good variety', 'lot', 'buying'], ['even home delivery', 'branded food items', 'food coupons', 'really helpful', 'product range', 'one stop', 'credit card', 'also accepted', 'people', 'huge', 'available'], ['help big time', 'super store', 'grocery purchase', 'dark inside', 'renovated'], ['staff seem', 'online booking', 'good experience', 'dunzo app', 'store', 'introduction', 'better'], ['online shopping', 'good place', 'direct'], ['household cleaning items', 'grocery items', 'popular supermarket', 'kitchen appliances', 'probably', 'much', 'cookware'], ['prices', 'competitive'], ['busy street', 'adjoining streets', 'parking available', 'place', 'look'], ['main road easily accessible', 'located', 'almost'], ['good place', 'day shopping'], ['good supermarket', 'decent selection'], ['variou items display signs', 'local provision stores', 'super bazar', 'properly stored', 'mrp compared', 'notice', 'however'], ['wide varieties', 'good place', 'friendly staff', 'items'], ['retail chains', 'great range', 'improved', 'better'], ['farmveda natural dry instant mixes', 'multi millet dosa', 'adai dosa', 'rava idli', 'ragi idli', 'lemon rasam', 'chutney podi', 'poha'], ['expired products ..!', 'costly ..!!!'], ['super market', 'polite staff', 'needed stuff'], ['good full fledged super store', 'like seal clips', 'good catalogue', 'stores around', 'essential products', 'lacks']]\n",
      "[[], ['ok ok supermarket', 'friendly'], ['good spices collection including', 'west india'], ['expired food items', 'old stock', 'good variety', 'lot', 'buying'], ['even home delivery', 'branded food items', 'food coupons', 'really helpful', 'product range', 'one stop', 'credit card', 'also accepted', 'people', 'huge', 'available'], ['help big time', 'super store', 'grocery purchase', 'dark inside', 'renovated'], ['staff seem', 'online booking', 'good experience', 'dunzo app', 'store', 'introduction', 'better'], ['online shopping', 'good place', 'direct'], ['household cleaning items', 'grocery items', 'popular supermarket', 'kitchen appliances', 'probably', 'much', 'cookware'], ['prices', 'competitive'], ['busy street', 'adjoining streets', 'parking available', 'place', 'look'], ['main road easily accessible', 'located', 'almost'], ['good place', 'day shopping'], ['good supermarket', 'decent selection'], ['variou items display signs', 'local provision stores', 'super bazar', 'properly stored', 'mrp compared', 'notice', 'however'], ['wide varieties', 'good place', 'friendly staff', 'items'], ['retail chains', 'great range', 'improved', 'better'], ['farmveda natural dry instant mixes', 'multi millet dosa', 'adai dosa', 'rava idli', 'ragi idli', 'lemon rasam', 'chutney podi', 'poha'], ['expired products ..!', 'costly ..!!!'], ['super market', 'polite staff', 'needed stuff'], ['good full fledged super store', 'like seal clips', 'good catalogue', 'stores around', 'essential products', 'lacks']]\n",
      "[[], ['ok ok supermarket', 'friendly'], ['good spices collection including', 'west india'], ['expired food items', 'old stock', 'good variety', 'lot', 'buying'], ['even home delivery', 'branded food items', 'food coupons', 'really helpful', 'product range', 'one stop', 'credit card', 'also accepted', 'people', 'huge', 'available'], ['help big time', 'super store', 'grocery purchase', 'dark inside', 'renovated'], ['staff seem', 'online booking', 'good experience', 'dunzo app', 'store', 'introduction', 'better'], ['online shopping', 'good place', 'direct'], ['household cleaning items', 'grocery items', 'popular supermarket', 'kitchen appliances', 'probably', 'much', 'cookware'], ['prices', 'competitive'], ['busy street', 'adjoining streets', 'parking available', 'place', 'look'], ['main road easily accessible', 'located', 'almost'], ['good place', 'day shopping'], ['good supermarket', 'decent selection'], ['variou items display signs', 'local provision stores', 'super bazar', 'properly stored', 'mrp compared', 'notice', 'however'], ['wide varieties', 'good place', 'friendly staff', 'items'], ['retail chains', 'great range', 'improved', 'better'], ['farmveda natural dry instant mixes', 'multi millet dosa', 'adai dosa', 'rava idli', 'ragi idli', 'lemon rasam', 'chutney podi', 'poha'], ['expired products ..!', 'costly ..!!!'], ['super market', 'polite staff', 'needed stuff'], ['good full fledged super store', 'like seal clips', 'good catalogue', 'stores around', 'essential products', 'lacks']]\n",
      "[[], ['ok ok supermarket', 'friendly'], ['good spices collection including', 'west india'], ['expired food items', 'old stock', 'good variety', 'lot', 'buying'], ['even home delivery', 'branded food items', 'food coupons', 'really helpful', 'product range', 'one stop', 'credit card', 'also accepted', 'people', 'huge', 'available'], ['help big time', 'super store', 'grocery purchase', 'dark inside', 'renovated'], ['staff seem', 'online booking', 'good experience', 'dunzo app', 'store', 'introduction', 'better'], ['online shopping', 'good place', 'direct'], ['household cleaning items', 'grocery items', 'popular supermarket', 'kitchen appliances', 'probably', 'much', 'cookware'], ['prices', 'competitive'], ['busy street', 'adjoining streets', 'parking available', 'place', 'look'], ['main road easily accessible', 'located', 'almost'], ['good place', 'day shopping'], ['good supermarket', 'decent selection'], ['variou items display signs', 'local provision stores', 'super bazar', 'properly stored', 'mrp compared', 'notice', 'however'], ['wide varieties', 'good place', 'friendly staff', 'items'], ['retail chains', 'great range', 'improved', 'better'], ['farmveda natural dry instant mixes', 'multi millet dosa', 'adai dosa', 'rava idli', 'ragi idli', 'lemon rasam', 'chutney podi', 'poha'], ['expired products ..!', 'costly ..!!!'], ['super market', 'polite staff', 'needed stuff'], ['good full fledged super store', 'like seal clips', 'good catalogue', 'stores around', 'essential products', 'lacks']]\n",
      "[[], ['ok ok supermarket', 'friendly'], ['good spices collection including', 'west india'], ['expired food items', 'old stock', 'good variety', 'lot', 'buying'], ['even home delivery', 'branded food items', 'food coupons', 'really helpful', 'product range', 'one stop', 'credit card', 'also accepted', 'people', 'huge', 'available'], ['help big time', 'super store', 'grocery purchase', 'dark inside', 'renovated'], ['staff seem', 'online booking', 'good experience', 'dunzo app', 'store', 'introduction', 'better'], ['online shopping', 'good place', 'direct'], ['household cleaning items', 'grocery items', 'popular supermarket', 'kitchen appliances', 'probably', 'much', 'cookware'], ['prices', 'competitive'], ['busy street', 'adjoining streets', 'parking available', 'place', 'look'], ['main road easily accessible', 'located', 'almost'], ['good place', 'day shopping'], ['good supermarket', 'decent selection'], ['variou items display signs', 'local provision stores', 'super bazar', 'properly stored', 'mrp compared', 'notice', 'however'], ['wide varieties', 'good place', 'friendly staff', 'items'], ['retail chains', 'great range', 'improved', 'better'], ['farmveda natural dry instant mixes', 'multi millet dosa', 'adai dosa', 'rava idli', 'ragi idli', 'lemon rasam', 'chutney podi', 'poha'], ['expired products ..!', 'costly ..!!!'], ['super market', 'polite staff', 'needed stuff'], ['good full fledged super store', 'like seal clips', 'good catalogue', 'stores around', 'essential products', 'lacks']]\n",
      "[[], ['ok ok supermarket', 'friendly'], ['good spices collection including', 'west india'], ['expired food items', 'old stock', 'good variety', 'lot', 'buying'], ['even home delivery', 'branded food items', 'food coupons', 'really helpful', 'product range', 'one stop', 'credit card', 'also accepted', 'people', 'huge', 'available'], ['help big time', 'super store', 'grocery purchase', 'dark inside', 'renovated'], ['staff seem', 'online booking', 'good experience', 'dunzo app', 'store', 'introduction', 'better'], ['online shopping', 'good place', 'direct'], ['household cleaning items', 'grocery items', 'popular supermarket', 'kitchen appliances', 'probably', 'much', 'cookware'], ['prices', 'competitive'], ['busy street', 'adjoining streets', 'parking available', 'place', 'look'], ['main road easily accessible', 'located', 'almost'], ['good place', 'day shopping'], ['good supermarket', 'decent selection'], ['variou items display signs', 'local provision stores', 'super bazar', 'properly stored', 'mrp compared', 'notice', 'however'], ['wide varieties', 'good place', 'friendly staff', 'items'], ['retail chains', 'great range', 'improved', 'better'], ['farmveda natural dry instant mixes', 'multi millet dosa', 'adai dosa', 'rava idli', 'ragi idli', 'lemon rasam', 'chutney podi', 'poha'], ['expired products ..!', 'costly ..!!!'], ['super market', 'polite staff', 'needed stuff'], ['good full fledged super store', 'like seal clips', 'good catalogue', 'stores around', 'essential products', 'lacks']]\n",
      "[[], ['ok ok supermarket', 'friendly'], ['good spices collection including', 'west india'], ['expired food items', 'old stock', 'good variety', 'lot', 'buying'], ['even home delivery', 'branded food items', 'food coupons', 'really helpful', 'product range', 'one stop', 'credit card', 'also accepted', 'people', 'huge', 'available'], ['help big time', 'super store', 'grocery purchase', 'dark inside', 'renovated'], ['staff seem', 'online booking', 'good experience', 'dunzo app', 'store', 'introduction', 'better'], ['online shopping', 'good place', 'direct'], ['household cleaning items', 'grocery items', 'popular supermarket', 'kitchen appliances', 'probably', 'much', 'cookware'], ['prices', 'competitive'], ['busy street', 'adjoining streets', 'parking available', 'place', 'look'], ['main road easily accessible', 'located', 'almost'], ['good place', 'day shopping'], ['good supermarket', 'decent selection'], ['variou items display signs', 'local provision stores', 'super bazar', 'properly stored', 'mrp compared', 'notice', 'however'], ['wide varieties', 'good place', 'friendly staff', 'items'], ['retail chains', 'great range', 'improved', 'better'], ['farmveda natural dry instant mixes', 'multi millet dosa', 'adai dosa', 'rava idli', 'ragi idli', 'lemon rasam', 'chutney podi', 'poha'], ['expired products ..!', 'costly ..!!!'], ['super market', 'polite staff', 'needed stuff'], ['good full fledged super store', 'like seal clips', 'good catalogue', 'stores around', 'essential products', 'lacks']]\n",
      "[[], ['ok ok supermarket', 'friendly'], ['good spices collection including', 'west india'], ['expired food items', 'old stock', 'good variety', 'lot', 'buying'], ['even home delivery', 'branded food items', 'food coupons', 'really helpful', 'product range', 'one stop', 'credit card', 'also accepted', 'people', 'huge', 'available'], ['help big time', 'super store', 'grocery purchase', 'dark inside', 'renovated'], ['staff seem', 'online booking', 'good experience', 'dunzo app', 'store', 'introduction', 'better'], ['online shopping', 'good place', 'direct'], ['household cleaning items', 'grocery items', 'popular supermarket', 'kitchen appliances', 'probably', 'much', 'cookware'], ['prices', 'competitive'], ['busy street', 'adjoining streets', 'parking available', 'place', 'look'], ['main road easily accessible', 'located', 'almost'], ['good place', 'day shopping'], ['good supermarket', 'decent selection'], ['variou items display signs', 'local provision stores', 'super bazar', 'properly stored', 'mrp compared', 'notice', 'however'], ['wide varieties', 'good place', 'friendly staff', 'items'], ['retail chains', 'great range', 'improved', 'better'], ['farmveda natural dry instant mixes', 'multi millet dosa', 'adai dosa', 'rava idli', 'ragi idli', 'lemon rasam', 'chutney podi', 'poha'], ['expired products ..!', 'costly ..!!!'], ['super market', 'polite staff', 'needed stuff'], ['good full fledged super store', 'like seal clips', 'good catalogue', 'stores around', 'essential products', 'lacks']]\n",
      "[[], ['ok ok supermarket', 'friendly'], ['good spices collection including', 'west india'], ['expired food items', 'old stock', 'good variety', 'lot', 'buying'], ['even home delivery', 'branded food items', 'food coupons', 'really helpful', 'product range', 'one stop', 'credit card', 'also accepted', 'people', 'huge', 'available'], ['help big time', 'super store', 'grocery purchase', 'dark inside', 'renovated'], ['staff seem', 'online booking', 'good experience', 'dunzo app', 'store', 'introduction', 'better'], ['online shopping', 'good place', 'direct'], ['household cleaning items', 'grocery items', 'popular supermarket', 'kitchen appliances', 'probably', 'much', 'cookware'], ['prices', 'competitive'], ['busy street', 'adjoining streets', 'parking available', 'place', 'look'], ['main road easily accessible', 'located', 'almost'], ['good place', 'day shopping'], ['good supermarket', 'decent selection'], ['variou items display signs', 'local provision stores', 'super bazar', 'properly stored', 'mrp compared', 'notice', 'however'], ['wide varieties', 'good place', 'friendly staff', 'items'], ['retail chains', 'great range', 'improved', 'better'], ['farmveda natural dry instant mixes', 'multi millet dosa', 'adai dosa', 'rava idli', 'ragi idli', 'lemon rasam', 'chutney podi', 'poha'], ['expired products ..!', 'costly ..!!!'], ['super market', 'polite staff', 'needed stuff'], ['good full fledged super store', 'like seal clips', 'good catalogue', 'stores around', 'essential products', 'lacks']]\n",
      "[[], ['ok ok supermarket', 'friendly'], ['good spices collection including', 'west india'], ['expired food items', 'old stock', 'good variety', 'lot', 'buying'], ['even home delivery', 'branded food items', 'food coupons', 'really helpful', 'product range', 'one stop', 'credit card', 'also accepted', 'people', 'huge', 'available'], ['help big time', 'super store', 'grocery purchase', 'dark inside', 'renovated'], ['staff seem', 'online booking', 'good experience', 'dunzo app', 'store', 'introduction', 'better'], ['online shopping', 'good place', 'direct'], ['household cleaning items', 'grocery items', 'popular supermarket', 'kitchen appliances', 'probably', 'much', 'cookware'], ['prices', 'competitive'], ['busy street', 'adjoining streets', 'parking available', 'place', 'look'], ['main road easily accessible', 'located', 'almost'], ['good place', 'day shopping'], ['good supermarket', 'decent selection'], ['variou items display signs', 'local provision stores', 'super bazar', 'properly stored', 'mrp compared', 'notice', 'however'], ['wide varieties', 'good place', 'friendly staff', 'items'], ['retail chains', 'great range', 'improved', 'better'], ['farmveda natural dry instant mixes', 'multi millet dosa', 'adai dosa', 'rava idli', 'ragi idli', 'lemon rasam', 'chutney podi', 'poha'], ['expired products ..!', 'costly ..!!!'], ['super market', 'polite staff', 'needed stuff'], ['good full fledged super store', 'like seal clips', 'good catalogue', 'stores around', 'essential products', 'lacks']]\n",
      "[[], ['ok ok supermarket', 'friendly'], ['good spices collection including', 'west india'], ['expired food items', 'old stock', 'good variety', 'lot', 'buying'], ['even home delivery', 'branded food items', 'food coupons', 'really helpful', 'product range', 'one stop', 'credit card', 'also accepted', 'people', 'huge', 'available'], ['help big time', 'super store', 'grocery purchase', 'dark inside', 'renovated'], ['staff seem', 'online booking', 'good experience', 'dunzo app', 'store', 'introduction', 'better'], ['online shopping', 'good place', 'direct'], ['household cleaning items', 'grocery items', 'popular supermarket', 'kitchen appliances', 'probably', 'much', 'cookware'], ['prices', 'competitive'], ['busy street', 'adjoining streets', 'parking available', 'place', 'look'], ['main road easily accessible', 'located', 'almost'], ['good place', 'day shopping'], ['good supermarket', 'decent selection'], ['variou items display signs', 'local provision stores', 'super bazar', 'properly stored', 'mrp compared', 'notice', 'however'], ['wide varieties', 'good place', 'friendly staff', 'items'], ['retail chains', 'great range', 'improved', 'better'], ['farmveda natural dry instant mixes', 'multi millet dosa', 'adai dosa', 'rava idli', 'ragi idli', 'lemon rasam', 'chutney podi', 'poha'], ['expired products ..!', 'costly ..!!!'], ['super market', 'polite staff', 'needed stuff'], ['good full fledged super store', 'like seal clips', 'good catalogue', 'stores around', 'essential products', 'lacks']]\n",
      "[[], ['ok ok supermarket', 'friendly'], ['good spices collection including', 'west india'], ['expired food items', 'old stock', 'good variety', 'lot', 'buying'], ['even home delivery', 'branded food items', 'food coupons', 'really helpful', 'product range', 'one stop', 'credit card', 'also accepted', 'people', 'huge', 'available'], ['help big time', 'super store', 'grocery purchase', 'dark inside', 'renovated'], ['staff seem', 'online booking', 'good experience', 'dunzo app', 'store', 'introduction', 'better'], ['online shopping', 'good place', 'direct'], ['household cleaning items', 'grocery items', 'popular supermarket', 'kitchen appliances', 'probably', 'much', 'cookware'], ['prices', 'competitive'], ['busy street', 'adjoining streets', 'parking available', 'place', 'look'], ['main road easily accessible', 'located', 'almost'], ['good place', 'day shopping'], ['good supermarket', 'decent selection'], ['variou items display signs', 'local provision stores', 'super bazar', 'properly stored', 'mrp compared', 'notice', 'however'], ['wide varieties', 'good place', 'friendly staff', 'items'], ['retail chains', 'great range', 'improved', 'better'], ['farmveda natural dry instant mixes', 'multi millet dosa', 'adai dosa', 'rava idli', 'ragi idli', 'lemon rasam', 'chutney podi', 'poha'], ['expired products ..!', 'costly ..!!!'], ['super market', 'polite staff', 'needed stuff'], ['good full fledged super store', 'like seal clips', 'good catalogue', 'stores around', 'essential products', 'lacks']]\n",
      "[[], ['ok ok supermarket', 'friendly'], ['good spices collection including', 'west india'], ['expired food items', 'old stock', 'good variety', 'lot', 'buying'], ['even home delivery', 'branded food items', 'food coupons', 'really helpful', 'product range', 'one stop', 'credit card', 'also accepted', 'people', 'huge', 'available'], ['help big time', 'super store', 'grocery purchase', 'dark inside', 'renovated'], ['staff seem', 'online booking', 'good experience', 'dunzo app', 'store', 'introduction', 'better'], ['online shopping', 'good place', 'direct'], ['household cleaning items', 'grocery items', 'popular supermarket', 'kitchen appliances', 'probably', 'much', 'cookware'], ['prices', 'competitive'], ['busy street', 'adjoining streets', 'parking available', 'place', 'look'], ['main road easily accessible', 'located', 'almost'], ['good place', 'day shopping'], ['good supermarket', 'decent selection'], ['variou items display signs', 'local provision stores', 'super bazar', 'properly stored', 'mrp compared', 'notice', 'however'], ['wide varieties', 'good place', 'friendly staff', 'items'], ['retail chains', 'great range', 'improved', 'better'], ['farmveda natural dry instant mixes', 'multi millet dosa', 'adai dosa', 'rava idli', 'ragi idli', 'lemon rasam', 'chutney podi', 'poha'], ['expired products ..!', 'costly ..!!!'], ['super market', 'polite staff', 'needed stuff'], ['good full fledged super store', 'like seal clips', 'good catalogue', 'stores around', 'essential products', 'lacks']]\n",
      "[[], ['ok ok supermarket', 'friendly'], ['good spices collection including', 'west india'], ['expired food items', 'old stock', 'good variety', 'lot', 'buying'], ['even home delivery', 'branded food items', 'food coupons', 'really helpful', 'product range', 'one stop', 'credit card', 'also accepted', 'people', 'huge', 'available'], ['help big time', 'super store', 'grocery purchase', 'dark inside', 'renovated'], ['staff seem', 'online booking', 'good experience', 'dunzo app', 'store', 'introduction', 'better'], ['online shopping', 'good place', 'direct'], ['household cleaning items', 'grocery items', 'popular supermarket', 'kitchen appliances', 'probably', 'much', 'cookware'], ['prices', 'competitive'], ['busy street', 'adjoining streets', 'parking available', 'place', 'look'], ['main road easily accessible', 'located', 'almost'], ['good place', 'day shopping'], ['good supermarket', 'decent selection'], ['variou items display signs', 'local provision stores', 'super bazar', 'properly stored', 'mrp compared', 'notice', 'however'], ['wide varieties', 'good place', 'friendly staff', 'items'], ['retail chains', 'great range', 'improved', 'better'], ['farmveda natural dry instant mixes', 'multi millet dosa', 'adai dosa', 'rava idli', 'ragi idli', 'lemon rasam', 'chutney podi', 'poha'], ['expired products ..!', 'costly ..!!!'], ['super market', 'polite staff', 'needed stuff'], ['good full fledged super store', 'like seal clips', 'good catalogue', 'stores around', 'essential products', 'lacks']]\n",
      "[[], ['ok ok supermarket', 'friendly'], ['good spices collection including', 'west india'], ['expired food items', 'old stock', 'good variety', 'lot', 'buying'], ['even home delivery', 'branded food items', 'food coupons', 'really helpful', 'product range', 'one stop', 'credit card', 'also accepted', 'people', 'huge', 'available'], ['help big time', 'super store', 'grocery purchase', 'dark inside', 'renovated'], ['staff seem', 'online booking', 'good experience', 'dunzo app', 'store', 'introduction', 'better'], ['online shopping', 'good place', 'direct'], ['household cleaning items', 'grocery items', 'popular supermarket', 'kitchen appliances', 'probably', 'much', 'cookware'], ['prices', 'competitive'], ['busy street', 'adjoining streets', 'parking available', 'place', 'look'], ['main road easily accessible', 'located', 'almost'], ['good place', 'day shopping'], ['good supermarket', 'decent selection'], ['variou items display signs', 'local provision stores', 'super bazar', 'properly stored', 'mrp compared', 'notice', 'however'], ['wide varieties', 'good place', 'friendly staff', 'items'], ['retail chains', 'great range', 'improved', 'better'], ['farmveda natural dry instant mixes', 'multi millet dosa', 'adai dosa', 'rava idli', 'ragi idli', 'lemon rasam', 'chutney podi', 'poha'], ['expired products ..!', 'costly ..!!!'], ['super market', 'polite staff', 'needed stuff'], ['good full fledged super store', 'like seal clips', 'good catalogue', 'stores around', 'essential products', 'lacks']]\n",
      "[[], ['ok ok supermarket', 'friendly'], ['good spices collection including', 'west india'], ['expired food items', 'old stock', 'good variety', 'lot', 'buying'], ['even home delivery', 'branded food items', 'food coupons', 'really helpful', 'product range', 'one stop', 'credit card', 'also accepted', 'people', 'huge', 'available'], ['help big time', 'super store', 'grocery purchase', 'dark inside', 'renovated'], ['staff seem', 'online booking', 'good experience', 'dunzo app', 'store', 'introduction', 'better'], ['online shopping', 'good place', 'direct'], ['household cleaning items', 'grocery items', 'popular supermarket', 'kitchen appliances', 'probably', 'much', 'cookware'], ['prices', 'competitive'], ['busy street', 'adjoining streets', 'parking available', 'place', 'look'], ['main road easily accessible', 'located', 'almost'], ['good place', 'day shopping'], ['good supermarket', 'decent selection'], ['variou items display signs', 'local provision stores', 'super bazar', 'properly stored', 'mrp compared', 'notice', 'however'], ['wide varieties', 'good place', 'friendly staff', 'items'], ['retail chains', 'great range', 'improved', 'better'], ['farmveda natural dry instant mixes', 'multi millet dosa', 'adai dosa', 'rava idli', 'ragi idli', 'lemon rasam', 'chutney podi', 'poha'], ['expired products ..!', 'costly ..!!!'], ['super market', 'polite staff', 'needed stuff'], ['good full fledged super store', 'like seal clips', 'good catalogue', 'stores around', 'essential products', 'lacks']]\n",
      "[[], ['ok ok supermarket', 'friendly'], ['good spices collection including', 'west india'], ['expired food items', 'old stock', 'good variety', 'lot', 'buying'], ['even home delivery', 'branded food items', 'food coupons', 'really helpful', 'product range', 'one stop', 'credit card', 'also accepted', 'people', 'huge', 'available'], ['help big time', 'super store', 'grocery purchase', 'dark inside', 'renovated'], ['staff seem', 'online booking', 'good experience', 'dunzo app', 'store', 'introduction', 'better'], ['online shopping', 'good place', 'direct'], ['household cleaning items', 'grocery items', 'popular supermarket', 'kitchen appliances', 'probably', 'much', 'cookware'], ['prices', 'competitive'], ['busy street', 'adjoining streets', 'parking available', 'place', 'look'], ['main road easily accessible', 'located', 'almost'], ['good place', 'day shopping'], ['good supermarket', 'decent selection'], ['variou items display signs', 'local provision stores', 'super bazar', 'properly stored', 'mrp compared', 'notice', 'however'], ['wide varieties', 'good place', 'friendly staff', 'items'], ['retail chains', 'great range', 'improved', 'better'], ['farmveda natural dry instant mixes', 'multi millet dosa', 'adai dosa', 'rava idli', 'ragi idli', 'lemon rasam', 'chutney podi', 'poha'], ['expired products ..!', 'costly ..!!!'], ['super market', 'polite staff', 'needed stuff'], ['good full fledged super store', 'like seal clips', 'good catalogue', 'stores around', 'essential products', 'lacks']]\n",
      "[[], ['ok ok supermarket', 'friendly'], ['good spices collection including', 'west india'], ['expired food items', 'old stock', 'good variety', 'lot', 'buying'], ['even home delivery', 'branded food items', 'food coupons', 'really helpful', 'product range', 'one stop', 'credit card', 'also accepted', 'people', 'huge', 'available'], ['help big time', 'super store', 'grocery purchase', 'dark inside', 'renovated'], ['staff seem', 'online booking', 'good experience', 'dunzo app', 'store', 'introduction', 'better'], ['online shopping', 'good place', 'direct'], ['household cleaning items', 'grocery items', 'popular supermarket', 'kitchen appliances', 'probably', 'much', 'cookware'], ['prices', 'competitive'], ['busy street', 'adjoining streets', 'parking available', 'place', 'look'], ['main road easily accessible', 'located', 'almost'], ['good place', 'day shopping'], ['good supermarket', 'decent selection'], ['variou items display signs', 'local provision stores', 'super bazar', 'properly stored', 'mrp compared', 'notice', 'however'], ['wide varieties', 'good place', 'friendly staff', 'items'], ['retail chains', 'great range', 'improved', 'better'], ['farmveda natural dry instant mixes', 'multi millet dosa', 'adai dosa', 'rava idli', 'ragi idli', 'lemon rasam', 'chutney podi', 'poha'], ['expired products ..!', 'costly ..!!!'], ['super market', 'polite staff', 'needed stuff'], ['good full fledged super store', 'like seal clips', 'good catalogue', 'stores around', 'essential products', 'lacks']]\n",
      "[[], ['ok ok supermarket', 'friendly'], ['good spices collection including', 'west india'], ['expired food items', 'old stock', 'good variety', 'lot', 'buying'], ['even home delivery', 'branded food items', 'food coupons', 'really helpful', 'product range', 'one stop', 'credit card', 'also accepted', 'people', 'huge', 'available'], ['help big time', 'super store', 'grocery purchase', 'dark inside', 'renovated'], ['staff seem', 'online booking', 'good experience', 'dunzo app', 'store', 'introduction', 'better'], ['online shopping', 'good place', 'direct'], ['household cleaning items', 'grocery items', 'popular supermarket', 'kitchen appliances', 'probably', 'much', 'cookware'], ['prices', 'competitive'], ['busy street', 'adjoining streets', 'parking available', 'place', 'look'], ['main road easily accessible', 'located', 'almost'], ['good place', 'day shopping'], ['good supermarket', 'decent selection'], ['variou items display signs', 'local provision stores', 'super bazar', 'properly stored', 'mrp compared', 'notice', 'however'], ['wide varieties', 'good place', 'friendly staff', 'items'], ['retail chains', 'great range', 'improved', 'better'], ['farmveda natural dry instant mixes', 'multi millet dosa', 'adai dosa', 'rava idli', 'ragi idli', 'lemon rasam', 'chutney podi', 'poha'], ['expired products ..!', 'costly ..!!!'], ['super market', 'polite staff', 'needed stuff'], ['good full fledged super store', 'like seal clips', 'good catalogue', 'stores around', 'essential products', 'lacks']]\n",
      "[[], ['ok ok supermarket', 'friendly'], ['good spices collection including', 'west india'], ['expired food items', 'old stock', 'good variety', 'lot', 'buying'], ['even home delivery', 'branded food items', 'food coupons', 'really helpful', 'product range', 'one stop', 'credit card', 'also accepted', 'people', 'huge', 'available'], ['help big time', 'super store', 'grocery purchase', 'dark inside', 'renovated'], ['staff seem', 'online booking', 'good experience', 'dunzo app', 'store', 'introduction', 'better'], ['online shopping', 'good place', 'direct'], ['household cleaning items', 'grocery items', 'popular supermarket', 'kitchen appliances', 'probably', 'much', 'cookware'], ['prices', 'competitive'], ['busy street', 'adjoining streets', 'parking available', 'place', 'look'], ['main road easily accessible', 'located', 'almost'], ['good place', 'day shopping'], ['good supermarket', 'decent selection'], ['variou items display signs', 'local provision stores', 'super bazar', 'properly stored', 'mrp compared', 'notice', 'however'], ['wide varieties', 'good place', 'friendly staff', 'items'], ['retail chains', 'great range', 'improved', 'better'], ['farmveda natural dry instant mixes', 'multi millet dosa', 'adai dosa', 'rava idli', 'ragi idli', 'lemon rasam', 'chutney podi', 'poha'], ['expired products ..!', 'costly ..!!!'], ['super market', 'polite staff', 'needed stuff'], ['good full fledged super store', 'like seal clips', 'good catalogue', 'stores around', 'essential products', 'lacks']]\n"
     ]
    }
   ],
   "source": [
    "wordnet,store=[],\"\"\n",
    "wordnet, store = form_phrases_for_wordnet(\"input0.txt\")\n",
    "for item in wordnet:\n",
    "    print(wordnet)"
   ]
  },
  {
   "cell_type": "code",
   "execution_count": null,
   "metadata": {
    "collapsed": true
   },
   "outputs": [],
   "source": []
  }
 ],
 "metadata": {
  "kernelspec": {
   "display_name": "Python 3",
   "language": "python",
   "name": "python3"
  },
  "language_info": {
   "codemirror_mode": {
    "name": "ipython",
    "version": 3
   },
   "file_extension": ".py",
   "mimetype": "text/x-python",
   "name": "python",
   "nbconvert_exporter": "python",
   "pygments_lexer": "ipython3",
   "version": "3.6.8"
  }
 },
 "nbformat": 4,
 "nbformat_minor": 2
}
